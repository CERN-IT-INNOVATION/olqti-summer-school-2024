{
 "cells": [
  {
   "cell_type": "markdown",
   "metadata": {
    "nbsphinx": {
     "title": "First steps"
    }
   },
   "source": [
    "# MNIST classification with TNs\n",
    "\n",
    "- 14x14, [$0-1$] range, zig-zag pixel ordering\n",
    "- embedding = trigonometric\n",
    "- sweeping strategy (claim that 2-3 sweeps is enough)\n",
    "- quadratic cost\n",
    "- bond_dim = 10, 20, 120\n",
    "- MPS (with output dim = 10)"
   ]
  },
  {
   "cell_type": "markdown",
   "metadata": {},
   "source": [
    "**Imports**"
   ]
  },
  {
   "cell_type": "code",
   "execution_count": 1,
   "metadata": {},
   "outputs": [
    {
     "name": "stderr",
     "output_type": "stream",
     "text": [
      "c:\\Users\\HP\\anaconda3\\envs\\olqti24\\Lib\\site-packages\\cotengra\\hyperoptimizers\\hyper.py:33: UserWarning: Couldn't import `kahypar` - skipping from default hyper optimizer and using basic `labels` method instead.\n",
      "  warnings.warn(\n"
     ]
    }
   ],
   "source": [
    "import numpy as np\n",
    "import jax.numpy as jnp\n",
    "import jax\n",
    "import tensorflow as tf\n",
    "from tensorflow.keras.datasets import mnist\n",
    "from jax.nn.initializers import *\n",
    "\n",
    "from tn4ml.initializers import *\n",
    "from tn4ml.models.mps import *\n",
    "from tn4ml.models.model import *\n",
    "from tn4ml.embeddings import *\n",
    "from tn4ml.metrics import *\n",
    "from tn4ml.strategy import *\n",
    "from tn4ml.util import *"
   ]
  },
  {
   "cell_type": "code",
   "execution_count": 2,
   "metadata": {},
   "outputs": [],
   "source": [
    "jax.config.update(\"jax_enable_x64\", True)"
   ]
  },
  {
   "cell_type": "markdown",
   "metadata": {},
   "source": [
    "**Load dataset**"
   ]
  },
  {
   "cell_type": "code",
   "execution_count": 3,
   "metadata": {},
   "outputs": [],
   "source": [
    "train, test = mnist.load_data()"
   ]
  },
  {
   "cell_type": "code",
   "execution_count": 4,
   "metadata": {},
   "outputs": [],
   "source": [
    "data = {\"X\": dict(train=train[0], test=test[0]), \"y\": dict(train=train[1], test=test[1])}"
   ]
  },
  {
   "cell_type": "code",
   "execution_count": 5,
   "metadata": {},
   "outputs": [],
   "source": [
    "# reduce the size of the image\n",
    "strides = (2,2) # (2,2) for 14x14 images; (4,4) for 7x7 images\n",
    "pool_size = (2,2)\n",
    "pool = tf.keras.layers.MaxPooling2D(pool_size=pool_size, strides=strides, padding=\"same\")"
   ]
  },
  {
   "cell_type": "code",
   "execution_count": 6,
   "metadata": {},
   "outputs": [],
   "source": [
    "X_pooled = pool(tf.constant(data['X']['train'].reshape(-1,28,28,1))).numpy().reshape(-1,14,14)/255.0\n",
    "X_pooled_test = pool(tf.constant(data['X']['test'].reshape(-1,28,28,1))).numpy().reshape(-1,14,14)/255.0"
   ]
  },
  {
   "cell_type": "code",
   "execution_count": 7,
   "metadata": {},
   "outputs": [],
   "source": [
    "# rearagne pixels in zig-zag order (from https://arxiv.org/pdf/1605.05775.pdf)\n",
    "\n",
    "def zigzag_order(data):\n",
    "    data_zigzag = []\n",
    "    for x in data:\n",
    "        image = []\n",
    "        for i in x:\n",
    "            image.extend(i)\n",
    "        data_zigzag.append(image)\n",
    "    return np.asarray(data_zigzag)"
   ]
  },
  {
   "cell_type": "code",
   "execution_count": 8,
   "metadata": {},
   "outputs": [],
   "source": [
    "train_data = zigzag_order(X_pooled)\n",
    "test_data = zigzag_order(X_pooled_test)"
   ]
  },
  {
   "cell_type": "code",
   "execution_count": 9,
   "metadata": {},
   "outputs": [
    {
     "data": {
      "text/plain": [
       "(60000, 196)"
      ]
     },
     "execution_count": 9,
     "metadata": {},
     "output_type": "execute_result"
    }
   ],
   "source": [
    "train_data.shape"
   ]
  },
  {
   "cell_type": "code",
   "execution_count": 10,
   "metadata": {},
   "outputs": [],
   "source": [
    "n_classes = 10"
   ]
  },
  {
   "cell_type": "code",
   "execution_count": 11,
   "metadata": {},
   "outputs": [],
   "source": [
    "y_train = integer_to_one_hot(data['y']['train'], n_classes)\n",
    "y_test = integer_to_one_hot(data['y']['test'], n_classes)\n",
    "# y_train = data['y']['train']\n",
    "# y_test = data['y']['test']"
   ]
  },
  {
   "cell_type": "markdown",
   "metadata": {},
   "source": [
    "**Take samples for training, validation and testing**"
   ]
  },
  {
   "cell_type": "code",
   "execution_count": 12,
   "metadata": {},
   "outputs": [],
   "source": [
    "train_size = 600\n",
    "test_size = 100\n",
    "val_perc = 0.2"
   ]
  },
  {
   "cell_type": "code",
   "execution_count": 13,
   "metadata": {},
   "outputs": [],
   "source": [
    "# take val_size samples from normal class for validation (X% of training data)\n",
    "val_size = int(val_perc*train_size)\n",
    "train_size = int(train_size - val_size)"
   ]
  },
  {
   "cell_type": "code",
   "execution_count": 14,
   "metadata": {},
   "outputs": [
    {
     "data": {
      "text/plain": [
       "(120, 480)"
      ]
     },
     "execution_count": 14,
     "metadata": {},
     "output_type": "execute_result"
    }
   ],
   "source": [
    "val_size, train_size"
   ]
  },
  {
   "cell_type": "code",
   "execution_count": 15,
   "metadata": {},
   "outputs": [],
   "source": [
    "indices = list(range(len(train_data)))\n",
    "np.random.shuffle(indices)\n",
    "\n",
    "train_indices = indices[:train_size]\n",
    "val_indices = indices[train_size : train_size+val_size]\n",
    "\n",
    "# train data and validation inputs\n",
    "train_inputs = np.take(train_data, train_indices, axis=0)\n",
    "val_inputs = np.take(train_data, val_indices, axis=0)\n",
    "\n",
    "\n",
    "# train data and validation labels\n",
    "train_targets = np.take(y_train, train_indices, axis=0)\n",
    "val_targets = np.take(y_train, val_indices, axis=0)"
   ]
  },
  {
   "cell_type": "code",
   "execution_count": 16,
   "metadata": {},
   "outputs": [],
   "source": [
    "indices = list(range(len(test_data)))\n",
    "np.random.shuffle(indices)\n",
    "\n",
    "test_indices = indices[:test_size]\n",
    "\n",
    "# test inputs\n",
    "test_inputs = np.take(test_data, test_indices, axis=0)\n",
    "\n",
    "# test labels\n",
    "test_targets = np.take(y_test, test_indices, axis=0)"
   ]
  },
  {
   "cell_type": "markdown",
   "metadata": {},
   "source": [
    "**Training setup** &nbsp;\n",
    "- direct gradient descent"
   ]
  },
  {
   "cell_type": "code",
   "execution_count": 27,
   "metadata": {},
   "outputs": [],
   "source": [
    "# model parameters\n",
    "L = 196\n",
    "initializer = randn(1e-4)\n",
    "#initializer = rand_unitary()\n",
    "key = jax.random.key(42)\n",
    "shape_method = 'noteven'\n",
    "bond_dim = 2\n",
    "# phys_dim = (2, )\n",
    "# spacing = L\n",
    "phys_dim = 3 # when polyomial embedding is used p = 3, when trigonometric embedding is used p = 2\n",
    "class_dim = 10\n",
    "index_class = L//2 if L%2==0 else L//2+1\n",
    "canonical_center=L//2\n",
    "cyclic = False\n",
    "add_identity = True # if using randn, if using rand_unitary, set to False\n",
    "boundary = 'obc'"
   ]
  },
  {
   "cell_type": "code",
   "execution_count": 28,
   "metadata": {},
   "outputs": [],
   "source": [
    "model = MPS_initialize(L,\n",
    "                    initializer=initializer,\n",
    "                    key=key,\n",
    "                    shape_method=shape_method,\n",
    "                    bond_dim=bond_dim,\n",
    "                    phys_dim=phys_dim,\n",
    "                    cyclic=cyclic,\n",
    "                    class_index=index_class,\n",
    "                    class_dim=10,\n",
    "                    add_identity=True,\n",
    "                    boundary=boundary,\n",
    "                    dtype=jnp.float64)"
   ]
  },
  {
   "cell_type": "code",
   "execution_count": 29,
   "metadata": {},
   "outputs": [
    {
     "data": {
      "text/html": [
       "<samp style='font-size: 12px;'><details><summary><b style=\"color: #3645cd;\">TensorNetwork</b>(tensors=196, indices=394, L=196, max_bond=10)</summary><samp style='font-size: 12px;'><details><summary><b style=\"color: #e55471;\">Tensor</b>(shape=(<b style=\"color: #45ce3d;\">1</b>, <b style=\"color: #828fdd;\">2</b>, <b style=\"color: #8a5bcf;\">3</b>), inds=[<b style=\"color: #e4495f;\">bond_-1</b>, <b style=\"color: #42cec1;\">bond_0</b>, <b style=\"color: #b1dc61;\">k0</b>], tags={<b style=\"color: #d2b137;\">I0</b>}),</summary>backend=<b style=\"color: #5198e5;\">jax</b>, dtype=<b style=\"color: #75d2c6;\">float64</b>, data=Array([[[ 1.03880276e+00, -1.22081754e-04, -5.34277604e-05],\n",
       "        [ 0.00000000e+00,  0.00000000e+00,  0.00000000e+00]]],      dtype=float64)</details></samp><samp style='font-size: 12px;'><details><summary><b style=\"color: #e55471;\">Tensor</b>(shape=(<b style=\"color: #828fdd;\">2</b>, <b style=\"color: #828fdd;\">2</b>, <b style=\"color: #8a5bcf;\">3</b>), inds=[<b style=\"color: #42cec1;\">bond_0</b>, <b style=\"color: #e382e3;\">bond_1</b>, <b style=\"color: #8aa5db;\">k1</b>], tags={<b style=\"color: #d19b78;\">I1</b>}),</summary>backend=<b style=\"color: #5198e5;\">jax</b>, dtype=<b style=\"color: #75d2c6;\">float64</b>, data=Array([[[ 1.03882634e+00,  1.09120234e-04,  2.21261790e-04],\n",
       "        [-1.43714986e-04, -1.90652887e-04, -5.65645615e-06]],\n",
       "\n",
       "       [[-9.82727496e-05,  5.15152923e-05,  2.70799717e-05],\n",
       "        [ 1.03885544e+00,  1.12859820e-04,  1.37784621e-04]]],      dtype=float64)</details></samp><samp style='font-size: 12px;'><details><summary><b style=\"color: #e55471;\">Tensor</b>(shape=(<b style=\"color: #828fdd;\">2</b>, <b style=\"color: #828fdd;\">2</b>, <b style=\"color: #8a5bcf;\">3</b>), inds=[<b style=\"color: #e382e3;\">bond_1</b>, <b style=\"color: #aa6ccd;\">bond_2</b>, <b style=\"color: #df546d;\">k2</b>], tags={<b style=\"color: #dd5dd7;\">I2</b>}),</summary>backend=<b style=\"color: #5198e5;\">jax</b>, dtype=<b style=\"color: #75d2c6;\">float64</b>, data=Array([[[ 1.03882634e+00,  1.09120234e-04,  2.21261790e-04],\n",
       "        [-1.43714986e-04, -1.90652887e-04, -5.65645615e-06]],\n",
       "\n",
       "       [[-9.82727496e-05,  5.15152923e-05,  2.70799717e-05],\n",
       "        [ 1.03885544e+00,  1.12859820e-04,  1.37784621e-04]]],      dtype=float64)</details></samp><samp style='font-size: 12px;'><details><summary><b style=\"color: #e55471;\">Tensor</b>(shape=(<b style=\"color: #828fdd;\">2</b>, <b style=\"color: #828fdd;\">2</b>, <b style=\"color: #8a5bcf;\">3</b>), inds=[<b style=\"color: #aa6ccd;\">bond_2</b>, <b style=\"color: #4fd685;\">bond_3</b>, <b style=\"color: #4c7be1;\">k3</b>], tags={<b style=\"color: #dd65d9;\">I3</b>}),</summary>backend=<b style=\"color: #5198e5;\">jax</b>, dtype=<b style=\"color: #75d2c6;\">float64</b>, data=Array([[[ 1.03882634e+00,  1.09120234e-04,  2.21261790e-04],\n",
       "        [-1.43714986e-04, -1.90652887e-04, -5.65645615e-06]],\n",
       "\n",
       "       [[-9.82727496e-05,  5.15152923e-05,  2.70799717e-05],\n",
       "        [ 1.03885544e+00,  1.12859820e-04,  1.37784621e-04]]],      dtype=float64)</details></samp><samp style='font-size: 12px;'><details><summary><b style=\"color: #e55471;\">Tensor</b>(shape=(<b style=\"color: #828fdd;\">2</b>, <b style=\"color: #828fdd;\">2</b>, <b style=\"color: #8a5bcf;\">3</b>), inds=[<b style=\"color: #4fd685;\">bond_3</b>, <b style=\"color: #8dd9c9;\">bond_4</b>, <b style=\"color: #462edc;\">k4</b>], tags={<b style=\"color: #998ad1;\">I4</b>}),</summary>backend=<b style=\"color: #5198e5;\">jax</b>, dtype=<b style=\"color: #75d2c6;\">float64</b>, data=Array([[[ 1.03882634e+00,  1.09120234e-04,  2.21261790e-04],\n",
       "        [-1.43714986e-04, -1.90652887e-04, -5.65645615e-06]],\n",
       "\n",
       "       [[-9.82727496e-05,  5.15152923e-05,  2.70799717e-05],\n",
       "        [ 1.03885544e+00,  1.12859820e-04,  1.37784621e-04]]],      dtype=float64)</details></samp><samp style='font-size: 12px;'><details><summary><b style=\"color: #e55471;\">Tensor</b>(shape=(<b style=\"color: #828fdd;\">2</b>, <b style=\"color: #828fdd;\">2</b>, <b style=\"color: #8a5bcf;\">3</b>), inds=[<b style=\"color: #8dd9c9;\">bond_4</b>, <b style=\"color: #43dcca;\">bond_5</b>, <b style=\"color: #85dfdf;\">k5</b>], tags={<b style=\"color: #97dddc;\">I5</b>}),</summary>backend=<b style=\"color: #5198e5;\">jax</b>, dtype=<b style=\"color: #75d2c6;\">float64</b>, data=Array([[[ 1.03882634e+00,  1.09120234e-04,  2.21261790e-04],\n",
       "        [-1.43714986e-04, -1.90652887e-04, -5.65645615e-06]],\n",
       "\n",
       "       [[-9.82727496e-05,  5.15152923e-05,  2.70799717e-05],\n",
       "        [ 1.03885544e+00,  1.12859820e-04,  1.37784621e-04]]],      dtype=float64)</details></samp><samp style='font-size: 12px;'><details><summary><b style=\"color: #e55471;\">Tensor</b>(shape=(<b style=\"color: #828fdd;\">2</b>, <b style=\"color: #828fdd;\">2</b>, <b style=\"color: #8a5bcf;\">3</b>), inds=[<b style=\"color: #43dcca;\">bond_5</b>, <b style=\"color: #a5d145;\">bond_6</b>, <b style=\"color: #2cb7d3;\">k6</b>], tags={<b style=\"color: #b2de5f;\">I6</b>}),</summary>backend=<b style=\"color: #5198e5;\">jax</b>, dtype=<b style=\"color: #75d2c6;\">float64</b>, data=Array([[[ 1.03882634e+00,  1.09120234e-04,  2.21261790e-04],\n",
       "        [-1.43714986e-04, -1.90652887e-04, -5.65645615e-06]],\n",
       "\n",
       "       [[-9.82727496e-05,  5.15152923e-05,  2.70799717e-05],\n",
       "        [ 1.03885544e+00,  1.12859820e-04,  1.37784621e-04]]],      dtype=float64)</details></samp><samp style='font-size: 12px;'><details><summary><b style=\"color: #e55471;\">Tensor</b>(shape=(<b style=\"color: #828fdd;\">2</b>, <b style=\"color: #828fdd;\">2</b>, <b style=\"color: #8a5bcf;\">3</b>), inds=[<b style=\"color: #a5d145;\">bond_6</b>, <b style=\"color: #6bd97a;\">bond_7</b>, <b style=\"color: #53e08f;\">k7</b>], tags={<b style=\"color: #5582d6;\">I7</b>}),</summary>backend=<b style=\"color: #5198e5;\">jax</b>, dtype=<b style=\"color: #75d2c6;\">float64</b>, data=Array([[[ 1.03882634e+00,  1.09120234e-04,  2.21261790e-04],\n",
       "        [-1.43714986e-04, -1.90652887e-04, -5.65645615e-06]],\n",
       "\n",
       "       [[-9.82727496e-05,  5.15152923e-05,  2.70799717e-05],\n",
       "        [ 1.03885544e+00,  1.12859820e-04,  1.37784621e-04]]],      dtype=float64)</details></samp><samp style='font-size: 12px;'><details><summary><b style=\"color: #e55471;\">Tensor</b>(shape=(<b style=\"color: #828fdd;\">2</b>, <b style=\"color: #828fdd;\">2</b>, <b style=\"color: #8a5bcf;\">3</b>), inds=[<b style=\"color: #6bd97a;\">bond_7</b>, <b style=\"color: #d853b9;\">bond_8</b>, <b style=\"color: #7bcd9f;\">k8</b>], tags={<b style=\"color: #8a3dd8;\">I8</b>}),</summary>backend=<b style=\"color: #5198e5;\">jax</b>, dtype=<b style=\"color: #75d2c6;\">float64</b>, data=Array([[[ 1.03882634e+00,  1.09120234e-04,  2.21261790e-04],\n",
       "        [-1.43714986e-04, -1.90652887e-04, -5.65645615e-06]],\n",
       "\n",
       "       [[-9.82727496e-05,  5.15152923e-05,  2.70799717e-05],\n",
       "        [ 1.03885544e+00,  1.12859820e-04,  1.37784621e-04]]],      dtype=float64)</details></samp><samp style='font-size: 12px;'><details><summary><b style=\"color: #e55471;\">Tensor</b>(shape=(<b style=\"color: #828fdd;\">2</b>, <b style=\"color: #828fdd;\">2</b>, <b style=\"color: #8a5bcf;\">3</b>), inds=[<b style=\"color: #d853b9;\">bond_8</b>, <b style=\"color: #dd3c86;\">bond_9</b>, <b style=\"color: #cc70c1;\">k9</b>], tags={<b style=\"color: #d74979;\">I9</b>}),</summary>backend=<b style=\"color: #5198e5;\">jax</b>, dtype=<b style=\"color: #75d2c6;\">float64</b>, data=Array([[[ 1.03882634e+00,  1.09120234e-04,  2.21261790e-04],\n",
       "        [-1.43714986e-04, -1.90652887e-04, -5.65645615e-06]],\n",
       "\n",
       "       [[-9.82727496e-05,  5.15152923e-05,  2.70799717e-05],\n",
       "        [ 1.03885544e+00,  1.12859820e-04,  1.37784621e-04]]],      dtype=float64)</details></samp><samp style='font-size: 12px;'><details><summary><b style=\"color: #e55471;\">Tensor</b>(shape=(<b style=\"color: #828fdd;\">2</b>, <b style=\"color: #828fdd;\">2</b>, <b style=\"color: #8a5bcf;\">3</b>), inds=[<b style=\"color: #dd3c86;\">bond_9</b>, <b style=\"color: #e589e5;\">bond_10</b>, <b style=\"color: #3fcf58;\">k10</b>], tags={<b style=\"color: #4e2bd3;\">I10</b>}),</summary>backend=<b style=\"color: #5198e5;\">jax</b>, dtype=<b style=\"color: #75d2c6;\">float64</b>, data=Array([[[ 1.03882634e+00,  1.09120234e-04,  2.21261790e-04],\n",
       "        [-1.43714986e-04, -1.90652887e-04, -5.65645615e-06]],\n",
       "\n",
       "       [[-9.82727496e-05,  5.15152923e-05,  2.70799717e-05],\n",
       "        [ 1.03885544e+00,  1.12859820e-04,  1.37784621e-04]]],      dtype=float64)</details></samp><samp style='font-size: 12px;'><details><summary><b style=\"color: #e55471;\">Tensor</b>(shape=(<b style=\"color: #828fdd;\">2</b>, <b style=\"color: #828fdd;\">2</b>, <b style=\"color: #8a5bcf;\">3</b>), inds=[<b style=\"color: #e589e5;\">bond_10</b>, <b style=\"color: #dc8eb1;\">bond_11</b>, <b style=\"color: #6d6fcf;\">k11</b>], tags={<b style=\"color: #cc3988;\">I11</b>}),</summary>backend=<b style=\"color: #5198e5;\">jax</b>, dtype=<b style=\"color: #75d2c6;\">float64</b>, data=Array([[[ 1.03882634e+00,  1.09120234e-04,  2.21261790e-04],\n",
       "        [-1.43714986e-04, -1.90652887e-04, -5.65645615e-06]],\n",
       "\n",
       "       [[-9.82727496e-05,  5.15152923e-05,  2.70799717e-05],\n",
       "        [ 1.03885544e+00,  1.12859820e-04,  1.37784621e-04]]],      dtype=float64)</details></samp><samp style='font-size: 12px;'><details><summary><b style=\"color: #e55471;\">Tensor</b>(shape=(<b style=\"color: #828fdd;\">2</b>, <b style=\"color: #828fdd;\">2</b>, <b style=\"color: #8a5bcf;\">3</b>), inds=[<b style=\"color: #dc8eb1;\">bond_11</b>, <b style=\"color: #98cf7e;\">bond_12</b>, <b style=\"color: #70c0d6;\">k12</b>], tags={<b style=\"color: #30a0d2;\">I12</b>}),</summary>backend=<b style=\"color: #5198e5;\">jax</b>, dtype=<b style=\"color: #75d2c6;\">float64</b>, data=Array([[[ 1.03882634e+00,  1.09120234e-04,  2.21261790e-04],\n",
       "        [-1.43714986e-04, -1.90652887e-04, -5.65645615e-06]],\n",
       "\n",
       "       [[-9.82727496e-05,  5.15152923e-05,  2.70799717e-05],\n",
       "        [ 1.03885544e+00,  1.12859820e-04,  1.37784621e-04]]],      dtype=float64)</details></samp><samp style='font-size: 12px;'><details><summary><b style=\"color: #e55471;\">Tensor</b>(shape=(<b style=\"color: #828fdd;\">2</b>, <b style=\"color: #828fdd;\">2</b>, <b style=\"color: #8a5bcf;\">3</b>), inds=[<b style=\"color: #98cf7e;\">bond_12</b>, <b style=\"color: #52d07e;\">bond_13</b>, <b style=\"color: #67b9df;\">k13</b>], tags={<b style=\"color: #59aad4;\">I13</b>}),</summary>backend=<b style=\"color: #5198e5;\">jax</b>, dtype=<b style=\"color: #75d2c6;\">float64</b>, data=Array([[[ 1.03882634e+00,  1.09120234e-04,  2.21261790e-04],\n",
       "        [-1.43714986e-04, -1.90652887e-04, -5.65645615e-06]],\n",
       "\n",
       "       [[-9.82727496e-05,  5.15152923e-05,  2.70799717e-05],\n",
       "        [ 1.03885544e+00,  1.12859820e-04,  1.37784621e-04]]],      dtype=float64)</details></samp><samp style='font-size: 12px;'><details><summary><b style=\"color: #e55471;\">Tensor</b>(shape=(<b style=\"color: #828fdd;\">2</b>, <b style=\"color: #828fdd;\">2</b>, <b style=\"color: #8a5bcf;\">3</b>), inds=[<b style=\"color: #52d07e;\">bond_13</b>, <b style=\"color: #72d362;\">bond_14</b>, <b style=\"color: #d58d74;\">k14</b>], tags={<b style=\"color: #e4d13e;\">I14</b>}),</summary>backend=<b style=\"color: #5198e5;\">jax</b>, dtype=<b style=\"color: #75d2c6;\">float64</b>, data=Array([[[ 1.03882634e+00,  1.09120234e-04,  2.21261790e-04],\n",
       "        [-1.43714986e-04, -1.90652887e-04, -5.65645615e-06]],\n",
       "\n",
       "       [[-9.82727496e-05,  5.15152923e-05,  2.70799717e-05],\n",
       "        [ 1.03885544e+00,  1.12859820e-04,  1.37784621e-04]]],      dtype=float64)</details></samp><samp style='font-size: 12px;'><details><summary><b style=\"color: #e55471;\">Tensor</b>(shape=(<b style=\"color: #828fdd;\">2</b>, <b style=\"color: #828fdd;\">2</b>, <b style=\"color: #8a5bcf;\">3</b>), inds=[<b style=\"color: #72d362;\">bond_14</b>, <b style=\"color: #3fd749;\">bond_15</b>, <b style=\"color: #ce6937;\">k15</b>], tags={<b style=\"color: #d54955;\">I15</b>}),</summary>backend=<b style=\"color: #5198e5;\">jax</b>, dtype=<b style=\"color: #75d2c6;\">float64</b>, data=Array([[[ 1.03882634e+00,  1.09120234e-04,  2.21261790e-04],\n",
       "        [-1.43714986e-04, -1.90652887e-04, -5.65645615e-06]],\n",
       "\n",
       "       [[-9.82727496e-05,  5.15152923e-05,  2.70799717e-05],\n",
       "        [ 1.03885544e+00,  1.12859820e-04,  1.37784621e-04]]],      dtype=float64)</details></samp><samp style='font-size: 12px;'><details><summary><b style=\"color: #e55471;\">Tensor</b>(shape=(<b style=\"color: #828fdd;\">2</b>, <b style=\"color: #828fdd;\">2</b>, <b style=\"color: #8a5bcf;\">3</b>), inds=[<b style=\"color: #3fd749;\">bond_15</b>, <b style=\"color: #84ce82;\">bond_16</b>, <b style=\"color: #dc53a2;\">k16</b>], tags={<b style=\"color: #d8af59;\">I16</b>}),</summary>backend=<b style=\"color: #5198e5;\">jax</b>, dtype=<b style=\"color: #75d2c6;\">float64</b>, data=Array([[[ 1.03882634e+00,  1.09120234e-04,  2.21261790e-04],\n",
       "        [-1.43714986e-04, -1.90652887e-04, -5.65645615e-06]],\n",
       "\n",
       "       [[-9.82727496e-05,  5.15152923e-05,  2.70799717e-05],\n",
       "        [ 1.03885544e+00,  1.12859820e-04,  1.37784621e-04]]],      dtype=float64)</details></samp><samp style='font-size: 12px;'><details><summary><b style=\"color: #e55471;\">Tensor</b>(shape=(<b style=\"color: #828fdd;\">2</b>, <b style=\"color: #828fdd;\">2</b>, <b style=\"color: #8a5bcf;\">3</b>), inds=[<b style=\"color: #84ce82;\">bond_16</b>, <b style=\"color: #8d5ecd;\">bond_17</b>, <b style=\"color: #d0b441;\">k17</b>], tags={<b style=\"color: #84a0d7;\">I17</b>}),</summary>backend=<b style=\"color: #5198e5;\">jax</b>, dtype=<b style=\"color: #75d2c6;\">float64</b>, data=Array([[[ 1.03882634e+00,  1.09120234e-04,  2.21261790e-04],\n",
       "        [-1.43714986e-04, -1.90652887e-04, -5.65645615e-06]],\n",
       "\n",
       "       [[-9.82727496e-05,  5.15152923e-05,  2.70799717e-05],\n",
       "        [ 1.03885544e+00,  1.12859820e-04,  1.37784621e-04]]],      dtype=float64)</details></samp><samp style='font-size: 12px;'><details><summary><b style=\"color: #e55471;\">Tensor</b>(shape=(<b style=\"color: #828fdd;\">2</b>, <b style=\"color: #828fdd;\">2</b>, <b style=\"color: #8a5bcf;\">3</b>), inds=[<b style=\"color: #8d5ecd;\">bond_17</b>, <b style=\"color: #d560c1;\">bond_18</b>, <b style=\"color: #da44a5;\">k18</b>], tags={<b style=\"color: #d360b6;\">I18</b>}),</summary>backend=<b style=\"color: #5198e5;\">jax</b>, dtype=<b style=\"color: #75d2c6;\">float64</b>, data=Array([[[ 1.03882634e+00,  1.09120234e-04,  2.21261790e-04],\n",
       "        [-1.43714986e-04, -1.90652887e-04, -5.65645615e-06]],\n",
       "\n",
       "       [[-9.82727496e-05,  5.15152923e-05,  2.70799717e-05],\n",
       "        [ 1.03885544e+00,  1.12859820e-04,  1.37784621e-04]]],      dtype=float64)</details></samp><samp style='font-size: 12px;'><details><summary><b style=\"color: #e55471;\">Tensor</b>(shape=(<b style=\"color: #828fdd;\">2</b>, <b style=\"color: #828fdd;\">2</b>, <b style=\"color: #8a5bcf;\">3</b>), inds=[<b style=\"color: #d560c1;\">bond_18</b>, <b style=\"color: #ce82d1;\">bond_19</b>, <b style=\"color: #48d040;\">k19</b>], tags={<b style=\"color: #90e14b;\">I19</b>}),</summary>backend=<b style=\"color: #5198e5;\">jax</b>, dtype=<b style=\"color: #75d2c6;\">float64</b>, data=Array([[[ 1.03882634e+00,  1.09120234e-04,  2.21261790e-04],\n",
       "        [-1.43714986e-04, -1.90652887e-04, -5.65645615e-06]],\n",
       "\n",
       "       [[-9.82727496e-05,  5.15152923e-05,  2.70799717e-05],\n",
       "        [ 1.03885544e+00,  1.12859820e-04,  1.37784621e-04]]],      dtype=float64)</details></samp><samp style='font-size: 12px;'><details><summary><b style=\"color: #e55471;\">Tensor</b>(shape=(<b style=\"color: #828fdd;\">2</b>, <b style=\"color: #828fdd;\">2</b>, <b style=\"color: #8a5bcf;\">3</b>), inds=[<b style=\"color: #ce82d1;\">bond_19</b>, <b style=\"color: #dd8ee1;\">bond_20</b>, <b style=\"color: #62ccba;\">k20</b>], tags={<b style=\"color: #86cd64;\">I20</b>}),</summary>backend=<b style=\"color: #5198e5;\">jax</b>, dtype=<b style=\"color: #75d2c6;\">float64</b>, data=Array([[[ 1.03882634e+00,  1.09120234e-04,  2.21261790e-04],\n",
       "        [-1.43714986e-04, -1.90652887e-04, -5.65645615e-06]],\n",
       "\n",
       "       [[-9.82727496e-05,  5.15152923e-05,  2.70799717e-05],\n",
       "        [ 1.03885544e+00,  1.12859820e-04,  1.37784621e-04]]],      dtype=float64)</details></samp><samp style='font-size: 12px;'><details><summary><b style=\"color: #e55471;\">Tensor</b>(shape=(<b style=\"color: #828fdd;\">2</b>, <b style=\"color: #828fdd;\">2</b>, <b style=\"color: #8a5bcf;\">3</b>), inds=[<b style=\"color: #dd8ee1;\">bond_20</b>, <b style=\"color: #a8cf77;\">bond_21</b>, <b style=\"color: #65d8a6;\">k21</b>], tags={<b style=\"color: #d769c1;\">I21</b>}),</summary>backend=<b style=\"color: #5198e5;\">jax</b>, dtype=<b style=\"color: #75d2c6;\">float64</b>, data=Array([[[ 1.03882634e+00,  1.09120234e-04,  2.21261790e-04],\n",
       "        [-1.43714986e-04, -1.90652887e-04, -5.65645615e-06]],\n",
       "\n",
       "       [[-9.82727496e-05,  5.15152923e-05,  2.70799717e-05],\n",
       "        [ 1.03885544e+00,  1.12859820e-04,  1.37784621e-04]]],      dtype=float64)</details></samp><samp style='font-size: 12px;'><details><summary><b style=\"color: #e55471;\">Tensor</b>(shape=(<b style=\"color: #828fdd;\">2</b>, <b style=\"color: #828fdd;\">2</b>, <b style=\"color: #8a5bcf;\">3</b>), inds=[<b style=\"color: #a8cf77;\">bond_21</b>, <b style=\"color: #ce36c0;\">bond_22</b>, <b style=\"color: #d73fb7;\">k22</b>], tags={<b style=\"color: #58cd8e;\">I22</b>}),</summary>backend=<b style=\"color: #5198e5;\">jax</b>, dtype=<b style=\"color: #75d2c6;\">float64</b>, data=Array([[[ 1.03882634e+00,  1.09120234e-04,  2.21261790e-04],\n",
       "        [-1.43714986e-04, -1.90652887e-04, -5.65645615e-06]],\n",
       "\n",
       "       [[-9.82727496e-05,  5.15152923e-05,  2.70799717e-05],\n",
       "        [ 1.03885544e+00,  1.12859820e-04,  1.37784621e-04]]],      dtype=float64)</details></samp><samp style='font-size: 12px;'><details><summary><b style=\"color: #e55471;\">Tensor</b>(shape=(<b style=\"color: #828fdd;\">2</b>, <b style=\"color: #828fdd;\">2</b>, <b style=\"color: #8a5bcf;\">3</b>), inds=[<b style=\"color: #ce36c0;\">bond_22</b>, <b style=\"color: #38e0b4;\">bond_23</b>, <b style=\"color: #d3513f;\">k23</b>], tags={<b style=\"color: #3ed5df;\">I23</b>}),</summary>backend=<b style=\"color: #5198e5;\">jax</b>, dtype=<b style=\"color: #75d2c6;\">float64</b>, data=Array([[[ 1.03882634e+00,  1.09120234e-04,  2.21261790e-04],\n",
       "        [-1.43714986e-04, -1.90652887e-04, -5.65645615e-06]],\n",
       "\n",
       "       [[-9.82727496e-05,  5.15152923e-05,  2.70799717e-05],\n",
       "        [ 1.03885544e+00,  1.12859820e-04,  1.37784621e-04]]],      dtype=float64)</details></samp><samp style='font-size: 12px;'><details><summary><b style=\"color: #e55471;\">Tensor</b>(shape=(<b style=\"color: #828fdd;\">2</b>, <b style=\"color: #828fdd;\">2</b>, <b style=\"color: #8a5bcf;\">3</b>), inds=[<b style=\"color: #38e0b4;\">bond_23</b>, <b style=\"color: #5be593;\">bond_24</b>, <b style=\"color: #d48f61;\">k24</b>], tags={<b style=\"color: #84a6d5;\">I24</b>}),</summary>backend=<b style=\"color: #5198e5;\">jax</b>, dtype=<b style=\"color: #75d2c6;\">float64</b>, data=Array([[[ 1.03882634e+00,  1.09120234e-04,  2.21261790e-04],\n",
       "        [-1.43714986e-04, -1.90652887e-04, -5.65645615e-06]],\n",
       "\n",
       "       [[-9.82727496e-05,  5.15152923e-05,  2.70799717e-05],\n",
       "        [ 1.03885544e+00,  1.12859820e-04,  1.37784621e-04]]],      dtype=float64)</details></samp><samp style='font-size: 12px;'><details><summary><b style=\"color: #e55471;\">Tensor</b>(shape=(<b style=\"color: #828fdd;\">2</b>, <b style=\"color: #828fdd;\">2</b>, <b style=\"color: #8a5bcf;\">3</b>), inds=[<b style=\"color: #5be593;\">bond_24</b>, <b style=\"color: #868cd2;\">bond_25</b>, <b style=\"color: #2e48da;\">k25</b>], tags={<b style=\"color: #e270b0;\">I25</b>}),</summary>backend=<b style=\"color: #5198e5;\">jax</b>, dtype=<b style=\"color: #75d2c6;\">float64</b>, data=Array([[[ 1.03882634e+00,  1.09120234e-04,  2.21261790e-04],\n",
       "        [-1.43714986e-04, -1.90652887e-04, -5.65645615e-06]],\n",
       "\n",
       "       [[-9.82727496e-05,  5.15152923e-05,  2.70799717e-05],\n",
       "        [ 1.03885544e+00,  1.12859820e-04,  1.37784621e-04]]],      dtype=float64)</details></samp><samp style='font-size: 12px;'><details><summary><b style=\"color: #e55471;\">Tensor</b>(shape=(<b style=\"color: #828fdd;\">2</b>, <b style=\"color: #828fdd;\">2</b>, <b style=\"color: #8a5bcf;\">3</b>), inds=[<b style=\"color: #868cd2;\">bond_25</b>, <b style=\"color: #dfb14f;\">bond_26</b>, <b style=\"color: #d177ac;\">k26</b>], tags={<b style=\"color: #e4ce85;\">I26</b>}),</summary>backend=<b style=\"color: #5198e5;\">jax</b>, dtype=<b style=\"color: #75d2c6;\">float64</b>, data=Array([[[ 1.03882634e+00,  1.09120234e-04,  2.21261790e-04],\n",
       "        [-1.43714986e-04, -1.90652887e-04, -5.65645615e-06]],\n",
       "\n",
       "       [[-9.82727496e-05,  5.15152923e-05,  2.70799717e-05],\n",
       "        [ 1.03885544e+00,  1.12859820e-04,  1.37784621e-04]]],      dtype=float64)</details></samp><samp style='font-size: 12px;'><details><summary><b style=\"color: #e55471;\">Tensor</b>(shape=(<b style=\"color: #828fdd;\">2</b>, <b style=\"color: #828fdd;\">2</b>, <b style=\"color: #8a5bcf;\">3</b>), inds=[<b style=\"color: #dfb14f;\">bond_26</b>, <b style=\"color: #d24483;\">bond_27</b>, <b style=\"color: #9771d5;\">k27</b>], tags={<b style=\"color: #2fe42e;\">I27</b>}),</summary>backend=<b style=\"color: #5198e5;\">jax</b>, dtype=<b style=\"color: #75d2c6;\">float64</b>, data=Array([[[ 1.03882634e+00,  1.09120234e-04,  2.21261790e-04],\n",
       "        [-1.43714986e-04, -1.90652887e-04, -5.65645615e-06]],\n",
       "\n",
       "       [[-9.82727496e-05,  5.15152923e-05,  2.70799717e-05],\n",
       "        [ 1.03885544e+00,  1.12859820e-04,  1.37784621e-04]]],      dtype=float64)</details></samp><samp style='font-size: 12px;'><details><summary><b style=\"color: #e55471;\">Tensor</b>(shape=(<b style=\"color: #828fdd;\">2</b>, <b style=\"color: #828fdd;\">2</b>, <b style=\"color: #8a5bcf;\">3</b>), inds=[<b style=\"color: #d24483;\">bond_27</b>, <b style=\"color: #4f83db;\">bond_28</b>, <b style=\"color: #4fcbce;\">k28</b>], tags={<b style=\"color: #77ce63;\">I28</b>}),</summary>backend=<b style=\"color: #5198e5;\">jax</b>, dtype=<b style=\"color: #75d2c6;\">float64</b>, data=Array([[[ 1.03882634e+00,  1.09120234e-04,  2.21261790e-04],\n",
       "        [-1.43714986e-04, -1.90652887e-04, -5.65645615e-06]],\n",
       "\n",
       "       [[-9.82727496e-05,  5.15152923e-05,  2.70799717e-05],\n",
       "        [ 1.03885544e+00,  1.12859820e-04,  1.37784621e-04]]],      dtype=float64)</details></samp><samp style='font-size: 12px;'><details><summary><b style=\"color: #e55471;\">Tensor</b>(shape=(<b style=\"color: #828fdd;\">2</b>, <b style=\"color: #828fdd;\">2</b>, <b style=\"color: #8a5bcf;\">3</b>), inds=[<b style=\"color: #4f83db;\">bond_28</b>, <b style=\"color: #d18ad2;\">bond_29</b>, <b style=\"color: #6e59d4;\">k29</b>], tags={<b style=\"color: #d29e8c;\">I29</b>}),</summary>backend=<b style=\"color: #5198e5;\">jax</b>, dtype=<b style=\"color: #75d2c6;\">float64</b>, data=Array([[[ 1.03882634e+00,  1.09120234e-04,  2.21261790e-04],\n",
       "        [-1.43714986e-04, -1.90652887e-04, -5.65645615e-06]],\n",
       "\n",
       "       [[-9.82727496e-05,  5.15152923e-05,  2.70799717e-05],\n",
       "        [ 1.03885544e+00,  1.12859820e-04,  1.37784621e-04]]],      dtype=float64)</details></samp><samp style='font-size: 12px;'><details><summary><b style=\"color: #e55471;\">Tensor</b>(shape=(<b style=\"color: #828fdd;\">2</b>, <b style=\"color: #828fdd;\">2</b>, <b style=\"color: #8a5bcf;\">3</b>), inds=[<b style=\"color: #d18ad2;\">bond_29</b>, <b style=\"color: #c5e06e;\">bond_30</b>, <b style=\"color: #2fce30;\">k30</b>], tags={<b style=\"color: #cecf73;\">I30</b>}),</summary>backend=<b style=\"color: #5198e5;\">jax</b>, dtype=<b style=\"color: #75d2c6;\">float64</b>, data=Array([[[ 1.03882634e+00,  1.09120234e-04,  2.21261790e-04],\n",
       "        [-1.43714986e-04, -1.90652887e-04, -5.65645615e-06]],\n",
       "\n",
       "       [[-9.82727496e-05,  5.15152923e-05,  2.70799717e-05],\n",
       "        [ 1.03885544e+00,  1.12859820e-04,  1.37784621e-04]]],      dtype=float64)</details></samp><samp style='font-size: 12px;'><details><summary><b style=\"color: #e55471;\">Tensor</b>(shape=(<b style=\"color: #828fdd;\">2</b>, <b style=\"color: #828fdd;\">2</b>, <b style=\"color: #8a5bcf;\">3</b>), inds=[<b style=\"color: #c5e06e;\">bond_30</b>, <b style=\"color: #d68c77;\">bond_31</b>, <b style=\"color: #92ce66;\">k31</b>], tags={<b style=\"color: #4ae341;\">I31</b>}),</summary>backend=<b style=\"color: #5198e5;\">jax</b>, dtype=<b style=\"color: #75d2c6;\">float64</b>, data=Array([[[ 1.03882634e+00,  1.09120234e-04,  2.21261790e-04],\n",
       "        [-1.43714986e-04, -1.90652887e-04, -5.65645615e-06]],\n",
       "\n",
       "       [[-9.82727496e-05,  5.15152923e-05,  2.70799717e-05],\n",
       "        [ 1.03885544e+00,  1.12859820e-04,  1.37784621e-04]]],      dtype=float64)</details></samp><samp style='font-size: 12px;'><details><summary><b style=\"color: #e55471;\">Tensor</b>(shape=(<b style=\"color: #828fdd;\">2</b>, <b style=\"color: #828fdd;\">2</b>, <b style=\"color: #8a5bcf;\">3</b>), inds=[<b style=\"color: #d68c77;\">bond_31</b>, <b style=\"color: #9ad286;\">bond_32</b>, <b style=\"color: #63df5a;\">k32</b>], tags={<b style=\"color: #73d949;\">I32</b>}),</summary>backend=<b style=\"color: #5198e5;\">jax</b>, dtype=<b style=\"color: #75d2c6;\">float64</b>, data=Array([[[ 1.03882634e+00,  1.09120234e-04,  2.21261790e-04],\n",
       "        [-1.43714986e-04, -1.90652887e-04, -5.65645615e-06]],\n",
       "\n",
       "       [[-9.82727496e-05,  5.15152923e-05,  2.70799717e-05],\n",
       "        [ 1.03885544e+00,  1.12859820e-04,  1.37784621e-04]]],      dtype=float64)</details></samp><samp style='font-size: 12px;'><details><summary><b style=\"color: #e55471;\">Tensor</b>(shape=(<b style=\"color: #828fdd;\">2</b>, <b style=\"color: #828fdd;\">2</b>, <b style=\"color: #8a5bcf;\">3</b>), inds=[<b style=\"color: #9ad286;\">bond_32</b>, <b style=\"color: #e0ab5d;\">bond_33</b>, <b style=\"color: #3861d4;\">k33</b>], tags={<b style=\"color: #54cf6a;\">I33</b>}),</summary>backend=<b style=\"color: #5198e5;\">jax</b>, dtype=<b style=\"color: #75d2c6;\">float64</b>, data=Array([[[ 1.03882634e+00,  1.09120234e-04,  2.21261790e-04],\n",
       "        [-1.43714986e-04, -1.90652887e-04, -5.65645615e-06]],\n",
       "\n",
       "       [[-9.82727496e-05,  5.15152923e-05,  2.70799717e-05],\n",
       "        [ 1.03885544e+00,  1.12859820e-04,  1.37784621e-04]]],      dtype=float64)</details></samp><samp style='font-size: 12px;'><details><summary><b style=\"color: #e55471;\">Tensor</b>(shape=(<b style=\"color: #828fdd;\">2</b>, <b style=\"color: #828fdd;\">2</b>, <b style=\"color: #8a5bcf;\">3</b>), inds=[<b style=\"color: #e0ab5d;\">bond_33</b>, <b style=\"color: #a8df96;\">bond_34</b>, <b style=\"color: #9bafe4;\">k34</b>], tags={<b style=\"color: #d6c363;\">I34</b>}),</summary>backend=<b style=\"color: #5198e5;\">jax</b>, dtype=<b style=\"color: #75d2c6;\">float64</b>, data=Array([[[ 1.03882634e+00,  1.09120234e-04,  2.21261790e-04],\n",
       "        [-1.43714986e-04, -1.90652887e-04, -5.65645615e-06]],\n",
       "\n",
       "       [[-9.82727496e-05,  5.15152923e-05,  2.70799717e-05],\n",
       "        [ 1.03885544e+00,  1.12859820e-04,  1.37784621e-04]]],      dtype=float64)</details></samp><samp style='font-size: 12px;'><details><summary><b style=\"color: #e55471;\">Tensor</b>(shape=(<b style=\"color: #828fdd;\">2</b>, <b style=\"color: #828fdd;\">2</b>, <b style=\"color: #8a5bcf;\">3</b>), inds=[<b style=\"color: #a8df96;\">bond_34</b>, <b style=\"color: #76e465;\">bond_35</b>, <b style=\"color: #dc42bd;\">k35</b>], tags={<b style=\"color: #73ddd4;\">I35</b>}),</summary>backend=<b style=\"color: #5198e5;\">jax</b>, dtype=<b style=\"color: #75d2c6;\">float64</b>, data=Array([[[ 1.03882634e+00,  1.09120234e-04,  2.21261790e-04],\n",
       "        [-1.43714986e-04, -1.90652887e-04, -5.65645615e-06]],\n",
       "\n",
       "       [[-9.82727496e-05,  5.15152923e-05,  2.70799717e-05],\n",
       "        [ 1.03885544e+00,  1.12859820e-04,  1.37784621e-04]]],      dtype=float64)</details></samp><samp style='font-size: 12px;'><details><summary><b style=\"color: #e55471;\">Tensor</b>(shape=(<b style=\"color: #828fdd;\">2</b>, <b style=\"color: #828fdd;\">2</b>, <b style=\"color: #8a5bcf;\">3</b>), inds=[<b style=\"color: #76e465;\">bond_35</b>, <b style=\"color: #8bd3c7;\">bond_36</b>, <b style=\"color: #d6dc56;\">k36</b>], tags={<b style=\"color: #73de36;\">I36</b>}),</summary>backend=<b style=\"color: #5198e5;\">jax</b>, dtype=<b style=\"color: #75d2c6;\">float64</b>, data=Array([[[ 1.03882634e+00,  1.09120234e-04,  2.21261790e-04],\n",
       "        [-1.43714986e-04, -1.90652887e-04, -5.65645615e-06]],\n",
       "\n",
       "       [[-9.82727496e-05,  5.15152923e-05,  2.70799717e-05],\n",
       "        [ 1.03885544e+00,  1.12859820e-04,  1.37784621e-04]]],      dtype=float64)</details></samp><samp style='font-size: 12px;'><details><summary><b style=\"color: #e55471;\">Tensor</b>(shape=(<b style=\"color: #828fdd;\">2</b>, <b style=\"color: #828fdd;\">2</b>, <b style=\"color: #8a5bcf;\">3</b>), inds=[<b style=\"color: #8bd3c7;\">bond_36</b>, <b style=\"color: #36de48;\">bond_37</b>, <b style=\"color: #7fd946;\">k37</b>], tags={<b style=\"color: #98ce58;\">I37</b>}),</summary>backend=<b style=\"color: #5198e5;\">jax</b>, dtype=<b style=\"color: #75d2c6;\">float64</b>, data=Array([[[ 1.03882634e+00,  1.09120234e-04,  2.21261790e-04],\n",
       "        [-1.43714986e-04, -1.90652887e-04, -5.65645615e-06]],\n",
       "\n",
       "       [[-9.82727496e-05,  5.15152923e-05,  2.70799717e-05],\n",
       "        [ 1.03885544e+00,  1.12859820e-04,  1.37784621e-04]]],      dtype=float64)</details></samp><samp style='font-size: 12px;'><details><summary><b style=\"color: #e55471;\">Tensor</b>(shape=(<b style=\"color: #828fdd;\">2</b>, <b style=\"color: #828fdd;\">2</b>, <b style=\"color: #8a5bcf;\">3</b>), inds=[<b style=\"color: #36de48;\">bond_37</b>, <b style=\"color: #34cecc;\">bond_38</b>, <b style=\"color: #a4d96c;\">k38</b>], tags={<b style=\"color: #86b8d8;\">I38</b>}),</summary>backend=<b style=\"color: #5198e5;\">jax</b>, dtype=<b style=\"color: #75d2c6;\">float64</b>, data=Array([[[ 1.03882634e+00,  1.09120234e-04,  2.21261790e-04],\n",
       "        [-1.43714986e-04, -1.90652887e-04, -5.65645615e-06]],\n",
       "\n",
       "       [[-9.82727496e-05,  5.15152923e-05,  2.70799717e-05],\n",
       "        [ 1.03885544e+00,  1.12859820e-04,  1.37784621e-04]]],      dtype=float64)</details></samp><samp style='font-size: 12px;'><details><summary><b style=\"color: #e55471;\">Tensor</b>(shape=(<b style=\"color: #828fdd;\">2</b>, <b style=\"color: #828fdd;\">2</b>, <b style=\"color: #8a5bcf;\">3</b>), inds=[<b style=\"color: #34cecc;\">bond_38</b>, <b style=\"color: #c647d9;\">bond_39</b>, <b style=\"color: #da8d91;\">k39</b>], tags={<b style=\"color: #5dde82;\">I39</b>}),</summary>backend=<b style=\"color: #5198e5;\">jax</b>, dtype=<b style=\"color: #75d2c6;\">float64</b>, data=Array([[[ 1.03882634e+00,  1.09120234e-04,  2.21261790e-04],\n",
       "        [-1.43714986e-04, -1.90652887e-04, -5.65645615e-06]],\n",
       "\n",
       "       [[-9.82727496e-05,  5.15152923e-05,  2.70799717e-05],\n",
       "        [ 1.03885544e+00,  1.12859820e-04,  1.37784621e-04]]],      dtype=float64)</details></samp><samp style='font-size: 12px;'><details><summary><b style=\"color: #e55471;\">Tensor</b>(shape=(<b style=\"color: #828fdd;\">2</b>, <b style=\"color: #828fdd;\">2</b>, <b style=\"color: #8a5bcf;\">3</b>), inds=[<b style=\"color: #c647d9;\">bond_39</b>, <b style=\"color: #d4ce33;\">bond_40</b>, <b style=\"color: #3acf3d;\">k40</b>], tags={<b style=\"color: #d79954;\">I40</b>}),</summary>backend=<b style=\"color: #5198e5;\">jax</b>, dtype=<b style=\"color: #75d2c6;\">float64</b>, data=Array([[[ 1.03882634e+00,  1.09120234e-04,  2.21261790e-04],\n",
       "        [-1.43714986e-04, -1.90652887e-04, -5.65645615e-06]],\n",
       "\n",
       "       [[-9.82727496e-05,  5.15152923e-05,  2.70799717e-05],\n",
       "        [ 1.03885544e+00,  1.12859820e-04,  1.37784621e-04]]],      dtype=float64)</details></samp><samp style='font-size: 12px;'><details><summary><b style=\"color: #e55471;\">Tensor</b>(shape=(<b style=\"color: #828fdd;\">2</b>, <b style=\"color: #828fdd;\">2</b>, <b style=\"color: #8a5bcf;\">3</b>), inds=[<b style=\"color: #d4ce33;\">bond_40</b>, <b style=\"color: #cdc87f;\">bond_41</b>, <b style=\"color: #9b45e0;\">k41</b>], tags={<b style=\"color: #db7fb4;\">I41</b>}),</summary>backend=<b style=\"color: #5198e5;\">jax</b>, dtype=<b style=\"color: #75d2c6;\">float64</b>, data=Array([[[ 1.03882634e+00,  1.09120234e-04,  2.21261790e-04],\n",
       "        [-1.43714986e-04, -1.90652887e-04, -5.65645615e-06]],\n",
       "\n",
       "       [[-9.82727496e-05,  5.15152923e-05,  2.70799717e-05],\n",
       "        [ 1.03885544e+00,  1.12859820e-04,  1.37784621e-04]]],      dtype=float64)</details></samp><samp style='font-size: 12px;'><details><summary><b style=\"color: #e55471;\">Tensor</b>(shape=(<b style=\"color: #828fdd;\">2</b>, <b style=\"color: #828fdd;\">2</b>, <b style=\"color: #8a5bcf;\">3</b>), inds=[<b style=\"color: #cdc87f;\">bond_41</b>, <b style=\"color: #e4cd76;\">bond_42</b>, <b style=\"color: #91d0ae;\">k42</b>], tags={<b style=\"color: #3ad9cb;\">I42</b>}),</summary>backend=<b style=\"color: #5198e5;\">jax</b>, dtype=<b style=\"color: #75d2c6;\">float64</b>, data=Array([[[ 1.03882634e+00,  1.09120234e-04,  2.21261790e-04],\n",
       "        [-1.43714986e-04, -1.90652887e-04, -5.65645615e-06]],\n",
       "\n",
       "       [[-9.82727496e-05,  5.15152923e-05,  2.70799717e-05],\n",
       "        [ 1.03885544e+00,  1.12859820e-04,  1.37784621e-04]]],      dtype=float64)</details></samp><samp style='font-size: 12px;'><details><summary><b style=\"color: #e55471;\">Tensor</b>(shape=(<b style=\"color: #828fdd;\">2</b>, <b style=\"color: #828fdd;\">2</b>, <b style=\"color: #8a5bcf;\">3</b>), inds=[<b style=\"color: #e4cd76;\">bond_42</b>, <b style=\"color: #d1cf6b;\">bond_43</b>, <b style=\"color: #7dcd72;\">k43</b>], tags={<b style=\"color: #82d291;\">I43</b>}),</summary>backend=<b style=\"color: #5198e5;\">jax</b>, dtype=<b style=\"color: #75d2c6;\">float64</b>, data=Array([[[ 1.03882634e+00,  1.09120234e-04,  2.21261790e-04],\n",
       "        [-1.43714986e-04, -1.90652887e-04, -5.65645615e-06]],\n",
       "\n",
       "       [[-9.82727496e-05,  5.15152923e-05,  2.70799717e-05],\n",
       "        [ 1.03885544e+00,  1.12859820e-04,  1.37784621e-04]]],      dtype=float64)</details></samp><samp style='font-size: 12px;'><details><summary><b style=\"color: #e55471;\">Tensor</b>(shape=(<b style=\"color: #828fdd;\">2</b>, <b style=\"color: #828fdd;\">2</b>, <b style=\"color: #8a5bcf;\">3</b>), inds=[<b style=\"color: #d1cf6b;\">bond_43</b>, <b style=\"color: #48d8cf;\">bond_44</b>, <b style=\"color: #bed37e;\">k44</b>], tags={<b style=\"color: #5adfc6;\">I44</b>}),</summary>backend=<b style=\"color: #5198e5;\">jax</b>, dtype=<b style=\"color: #75d2c6;\">float64</b>, data=Array([[[ 1.03882634e+00,  1.09120234e-04,  2.21261790e-04],\n",
       "        [-1.43714986e-04, -1.90652887e-04, -5.65645615e-06]],\n",
       "\n",
       "       [[-9.82727496e-05,  5.15152923e-05,  2.70799717e-05],\n",
       "        [ 1.03885544e+00,  1.12859820e-04,  1.37784621e-04]]],      dtype=float64)</details></samp><samp style='font-size: 12px;'><details><summary><b style=\"color: #e55471;\">Tensor</b>(shape=(<b style=\"color: #828fdd;\">2</b>, <b style=\"color: #828fdd;\">2</b>, <b style=\"color: #8a5bcf;\">3</b>), inds=[<b style=\"color: #48d8cf;\">bond_44</b>, <b style=\"color: #74df7d;\">bond_45</b>, <b style=\"color: #cebb8f;\">k45</b>], tags={<b style=\"color: #5cdf8f;\">I45</b>}),</summary>backend=<b style=\"color: #5198e5;\">jax</b>, dtype=<b style=\"color: #75d2c6;\">float64</b>, data=Array([[[ 1.03882634e+00,  1.09120234e-04,  2.21261790e-04],\n",
       "        [-1.43714986e-04, -1.90652887e-04, -5.65645615e-06]],\n",
       "\n",
       "       [[-9.82727496e-05,  5.15152923e-05,  2.70799717e-05],\n",
       "        [ 1.03885544e+00,  1.12859820e-04,  1.37784621e-04]]],      dtype=float64)</details></samp><samp style='font-size: 12px;'><details><summary><b style=\"color: #e55471;\">Tensor</b>(shape=(<b style=\"color: #828fdd;\">2</b>, <b style=\"color: #828fdd;\">2</b>, <b style=\"color: #8a5bcf;\">3</b>), inds=[<b style=\"color: #74df7d;\">bond_45</b>, <b style=\"color: #9baee5;\">bond_46</b>, <b style=\"color: #e1d385;\">k46</b>], tags={<b style=\"color: #c5e396;\">I46</b>}),</summary>backend=<b style=\"color: #5198e5;\">jax</b>, dtype=<b style=\"color: #75d2c6;\">float64</b>, data=Array([[[ 1.03882634e+00,  1.09120234e-04,  2.21261790e-04],\n",
       "        [-1.43714986e-04, -1.90652887e-04, -5.65645615e-06]],\n",
       "\n",
       "       [[-9.82727496e-05,  5.15152923e-05,  2.70799717e-05],\n",
       "        [ 1.03885544e+00,  1.12859820e-04,  1.37784621e-04]]],      dtype=float64)</details></samp><samp style='font-size: 12px;'><details><summary><b style=\"color: #e55471;\">Tensor</b>(shape=(<b style=\"color: #828fdd;\">2</b>, <b style=\"color: #828fdd;\">2</b>, <b style=\"color: #8a5bcf;\">3</b>), inds=[<b style=\"color: #9baee5;\">bond_46</b>, <b style=\"color: #d8c780;\">bond_47</b>, <b style=\"color: #8c63e5;\">k47</b>], tags={<b style=\"color: #4152d9;\">I47</b>}),</summary>backend=<b style=\"color: #5198e5;\">jax</b>, dtype=<b style=\"color: #75d2c6;\">float64</b>, data=Array([[[ 1.03882634e+00,  1.09120234e-04,  2.21261790e-04],\n",
       "        [-1.43714986e-04, -1.90652887e-04, -5.65645615e-06]],\n",
       "\n",
       "       [[-9.82727496e-05,  5.15152923e-05,  2.70799717e-05],\n",
       "        [ 1.03885544e+00,  1.12859820e-04,  1.37784621e-04]]],      dtype=float64)</details></samp><samp style='font-size: 12px;'><details><summary><b style=\"color: #e55471;\">Tensor</b>(shape=(<b style=\"color: #828fdd;\">2</b>, <b style=\"color: #828fdd;\">2</b>, <b style=\"color: #8a5bcf;\">3</b>), inds=[<b style=\"color: #d8c780;\">bond_47</b>, <b style=\"color: #d46248;\">bond_48</b>, <b style=\"color: #cd6e86;\">k48</b>], tags={<b style=\"color: #a95fdc;\">I48</b>}),</summary>backend=<b style=\"color: #5198e5;\">jax</b>, dtype=<b style=\"color: #75d2c6;\">float64</b>, data=Array([[[ 1.03882634e+00,  1.09120234e-04,  2.21261790e-04],\n",
       "        [-1.43714986e-04, -1.90652887e-04, -5.65645615e-06]],\n",
       "\n",
       "       [[-9.82727496e-05,  5.15152923e-05,  2.70799717e-05],\n",
       "        [ 1.03885544e+00,  1.12859820e-04,  1.37784621e-04]]],      dtype=float64)</details></samp><samp style='font-size: 12px;'><details><summary><b style=\"color: #e55471;\">Tensor</b>(shape=(<b style=\"color: #828fdd;\">2</b>, <b style=\"color: #828fdd;\">2</b>, <b style=\"color: #8a5bcf;\">3</b>), inds=[<b style=\"color: #d46248;\">bond_48</b>, <b style=\"color: #d13f7a;\">bond_49</b>, <b style=\"color: #45da7e;\">k49</b>], tags={<b style=\"color: #a5da82;\">I49</b>}),</summary>backend=<b style=\"color: #5198e5;\">jax</b>, dtype=<b style=\"color: #75d2c6;\">float64</b>, data=Array([[[ 1.03882634e+00,  1.09120234e-04,  2.21261790e-04],\n",
       "        [-1.43714986e-04, -1.90652887e-04, -5.65645615e-06]],\n",
       "\n",
       "       [[-9.82727496e-05,  5.15152923e-05,  2.70799717e-05],\n",
       "        [ 1.03885544e+00,  1.12859820e-04,  1.37784621e-04]]],      dtype=float64)</details></samp><samp style='font-size: 12px;'><details><summary><b style=\"color: #e55471;\">Tensor</b>(shape=(<b style=\"color: #828fdd;\">2</b>, <b style=\"color: #828fdd;\">2</b>, <b style=\"color: #8a5bcf;\">3</b>), inds=[<b style=\"color: #d13f7a;\">bond_49</b>, <b style=\"color: #97dae4;\">bond_50</b>, <b style=\"color: #809ae2;\">k50</b>], tags={<b style=\"color: #d94432;\">I50</b>}),</summary>backend=<b style=\"color: #5198e5;\">jax</b>, dtype=<b style=\"color: #75d2c6;\">float64</b>, data=Array([[[ 1.03882634e+00,  1.09120234e-04,  2.21261790e-04],\n",
       "        [-1.43714986e-04, -1.90652887e-04, -5.65645615e-06]],\n",
       "\n",
       "       [[-9.82727496e-05,  5.15152923e-05,  2.70799717e-05],\n",
       "        [ 1.03885544e+00,  1.12859820e-04,  1.37784621e-04]]],      dtype=float64)</details></samp><samp style='font-size: 12px;'><details><summary><b style=\"color: #e55471;\">Tensor</b>(shape=(<b style=\"color: #828fdd;\">2</b>, <b style=\"color: #828fdd;\">2</b>, <b style=\"color: #8a5bcf;\">3</b>), inds=[<b style=\"color: #97dae4;\">bond_50</b>, <b style=\"color: #d63d3c;\">bond_51</b>, <b style=\"color: #8c47db;\">k51</b>], tags={<b style=\"color: #709de5;\">I51</b>}),</summary>backend=<b style=\"color: #5198e5;\">jax</b>, dtype=<b style=\"color: #75d2c6;\">float64</b>, data=Array([[[ 1.03882634e+00,  1.09120234e-04,  2.21261790e-04],\n",
       "        [-1.43714986e-04, -1.90652887e-04, -5.65645615e-06]],\n",
       "\n",
       "       [[-9.82727496e-05,  5.15152923e-05,  2.70799717e-05],\n",
       "        [ 1.03885544e+00,  1.12859820e-04,  1.37784621e-04]]],      dtype=float64)</details></samp><samp style='font-size: 12px;'><details><summary><b style=\"color: #e55471;\">Tensor</b>(shape=(<b style=\"color: #828fdd;\">2</b>, <b style=\"color: #828fdd;\">2</b>, <b style=\"color: #8a5bcf;\">3</b>), inds=[<b style=\"color: #d63d3c;\">bond_51</b>, <b style=\"color: #8f9ed2;\">bond_52</b>, <b style=\"color: #40b6d3;\">k52</b>], tags={<b style=\"color: #3adb88;\">I52</b>}),</summary>backend=<b style=\"color: #5198e5;\">jax</b>, dtype=<b style=\"color: #75d2c6;\">float64</b>, data=Array([[[ 1.03882634e+00,  1.09120234e-04,  2.21261790e-04],\n",
       "        [-1.43714986e-04, -1.90652887e-04, -5.65645615e-06]],\n",
       "\n",
       "       [[-9.82727496e-05,  5.15152923e-05,  2.70799717e-05],\n",
       "        [ 1.03885544e+00,  1.12859820e-04,  1.37784621e-04]]],      dtype=float64)</details></samp><samp style='font-size: 12px;'><details><summary><b style=\"color: #e55471;\">Tensor</b>(shape=(<b style=\"color: #828fdd;\">2</b>, <b style=\"color: #828fdd;\">2</b>, <b style=\"color: #8a5bcf;\">3</b>), inds=[<b style=\"color: #8f9ed2;\">bond_52</b>, <b style=\"color: #d65890;\">bond_53</b>, <b style=\"color: #64cd6b;\">k53</b>], tags={<b style=\"color: #55a9dd;\">I53</b>}),</summary>backend=<b style=\"color: #5198e5;\">jax</b>, dtype=<b style=\"color: #75d2c6;\">float64</b>, data=Array([[[ 1.03882634e+00,  1.09120234e-04,  2.21261790e-04],\n",
       "        [-1.43714986e-04, -1.90652887e-04, -5.65645615e-06]],\n",
       "\n",
       "       [[-9.82727496e-05,  5.15152923e-05,  2.70799717e-05],\n",
       "        [ 1.03885544e+00,  1.12859820e-04,  1.37784621e-04]]],      dtype=float64)</details></samp><samp style='font-size: 12px;'><details><summary><b style=\"color: #e55471;\">Tensor</b>(shape=(<b style=\"color: #828fdd;\">2</b>, <b style=\"color: #828fdd;\">2</b>, <b style=\"color: #8a5bcf;\">3</b>), inds=[<b style=\"color: #d65890;\">bond_53</b>, <b style=\"color: #9697e0;\">bond_54</b>, <b style=\"color: #8ce1b5;\">k54</b>], tags={<b style=\"color: #ddca3e;\">I54</b>}),</summary>backend=<b style=\"color: #5198e5;\">jax</b>, dtype=<b style=\"color: #75d2c6;\">float64</b>, data=Array([[[ 1.03882634e+00,  1.09120234e-04,  2.21261790e-04],\n",
       "        [-1.43714986e-04, -1.90652887e-04, -5.65645615e-06]],\n",
       "\n",
       "       [[-9.82727496e-05,  5.15152923e-05,  2.70799717e-05],\n",
       "        [ 1.03885544e+00,  1.12859820e-04,  1.37784621e-04]]],      dtype=float64)</details></samp><samp style='font-size: 12px;'><details><summary><b style=\"color: #e55471;\">Tensor</b>(shape=(<b style=\"color: #828fdd;\">2</b>, <b style=\"color: #828fdd;\">2</b>, <b style=\"color: #8a5bcf;\">3</b>), inds=[<b style=\"color: #9697e0;\">bond_54</b>, <b style=\"color: #93deb8;\">bond_55</b>, <b style=\"color: #2dcadd;\">k55</b>], tags={<b style=\"color: #a6d86a;\">I55</b>}),</summary>backend=<b style=\"color: #5198e5;\">jax</b>, dtype=<b style=\"color: #75d2c6;\">float64</b>, data=Array([[[ 1.03882634e+00,  1.09120234e-04,  2.21261790e-04],\n",
       "        [-1.43714986e-04, -1.90652887e-04, -5.65645615e-06]],\n",
       "\n",
       "       [[-9.82727496e-05,  5.15152923e-05,  2.70799717e-05],\n",
       "        [ 1.03885544e+00,  1.12859820e-04,  1.37784621e-04]]],      dtype=float64)</details></samp><samp style='font-size: 12px;'><details><summary><b style=\"color: #e55471;\">Tensor</b>(shape=(<b style=\"color: #828fdd;\">2</b>, <b style=\"color: #828fdd;\">2</b>, <b style=\"color: #8a5bcf;\">3</b>), inds=[<b style=\"color: #93deb8;\">bond_55</b>, <b style=\"color: #8f61da;\">bond_56</b>, <b style=\"color: #cacf6a;\">k56</b>], tags={<b style=\"color: #e236e1;\">I56</b>}),</summary>backend=<b style=\"color: #5198e5;\">jax</b>, dtype=<b style=\"color: #75d2c6;\">float64</b>, data=Array([[[ 1.03882634e+00,  1.09120234e-04,  2.21261790e-04],\n",
       "        [-1.43714986e-04, -1.90652887e-04, -5.65645615e-06]],\n",
       "\n",
       "       [[-9.82727496e-05,  5.15152923e-05,  2.70799717e-05],\n",
       "        [ 1.03885544e+00,  1.12859820e-04,  1.37784621e-04]]],      dtype=float64)</details></samp><samp style='font-size: 12px;'><details><summary><b style=\"color: #e55471;\">Tensor</b>(shape=(<b style=\"color: #828fdd;\">2</b>, <b style=\"color: #828fdd;\">2</b>, <b style=\"color: #8a5bcf;\">3</b>), inds=[<b style=\"color: #8f61da;\">bond_56</b>, <b style=\"color: #8ce290;\">bond_57</b>, <b style=\"color: #cda663;\">k57</b>], tags={<b style=\"color: #e37956;\">I57</b>}),</summary>backend=<b style=\"color: #5198e5;\">jax</b>, dtype=<b style=\"color: #75d2c6;\">float64</b>, data=Array([[[ 1.03882634e+00,  1.09120234e-04,  2.21261790e-04],\n",
       "        [-1.43714986e-04, -1.90652887e-04, -5.65645615e-06]],\n",
       "\n",
       "       [[-9.82727496e-05,  5.15152923e-05,  2.70799717e-05],\n",
       "        [ 1.03885544e+00,  1.12859820e-04,  1.37784621e-04]]],      dtype=float64)</details></samp><samp style='font-size: 12px;'><details><summary><b style=\"color: #e55471;\">Tensor</b>(shape=(<b style=\"color: #828fdd;\">2</b>, <b style=\"color: #828fdd;\">2</b>, <b style=\"color: #8a5bcf;\">3</b>), inds=[<b style=\"color: #8ce290;\">bond_57</b>, <b style=\"color: #90dc3f;\">bond_58</b>, <b style=\"color: #75bbcd;\">k58</b>], tags={<b style=\"color: #dc85c6;\">I58</b>}),</summary>backend=<b style=\"color: #5198e5;\">jax</b>, dtype=<b style=\"color: #75d2c6;\">float64</b>, data=Array([[[ 1.03882634e+00,  1.09120234e-04,  2.21261790e-04],\n",
       "        [-1.43714986e-04, -1.90652887e-04, -5.65645615e-06]],\n",
       "\n",
       "       [[-9.82727496e-05,  5.15152923e-05,  2.70799717e-05],\n",
       "        [ 1.03885544e+00,  1.12859820e-04,  1.37784621e-04]]],      dtype=float64)</details></samp><samp style='font-size: 12px;'><details><summary><b style=\"color: #e55471;\">Tensor</b>(shape=(<b style=\"color: #828fdd;\">2</b>, <b style=\"color: #828fdd;\">2</b>, <b style=\"color: #8a5bcf;\">3</b>), inds=[<b style=\"color: #90dc3f;\">bond_58</b>, <b style=\"color: #6ae1ae;\">bond_59</b>, <b style=\"color: #93e0a6;\">k59</b>], tags={<b style=\"color: #8be043;\">I59</b>}),</summary>backend=<b style=\"color: #5198e5;\">jax</b>, dtype=<b style=\"color: #75d2c6;\">float64</b>, data=Array([[[ 1.03882634e+00,  1.09120234e-04,  2.21261790e-04],\n",
       "        [-1.43714986e-04, -1.90652887e-04, -5.65645615e-06]],\n",
       "\n",
       "       [[-9.82727496e-05,  5.15152923e-05,  2.70799717e-05],\n",
       "        [ 1.03885544e+00,  1.12859820e-04,  1.37784621e-04]]],      dtype=float64)</details></samp><samp style='font-size: 12px;'><details><summary><b style=\"color: #e55471;\">Tensor</b>(shape=(<b style=\"color: #828fdd;\">2</b>, <b style=\"color: #828fdd;\">2</b>, <b style=\"color: #8a5bcf;\">3</b>), inds=[<b style=\"color: #6ae1ae;\">bond_59</b>, <b style=\"color: #8d99e3;\">bond_60</b>, <b style=\"color: #3952e0;\">k60</b>], tags={<b style=\"color: #d9c267;\">I60</b>}),</summary>backend=<b style=\"color: #5198e5;\">jax</b>, dtype=<b style=\"color: #75d2c6;\">float64</b>, data=Array([[[ 1.03882634e+00,  1.09120234e-04,  2.21261790e-04],\n",
       "        [-1.43714986e-04, -1.90652887e-04, -5.65645615e-06]],\n",
       "\n",
       "       [[-9.82727496e-05,  5.15152923e-05,  2.70799717e-05],\n",
       "        [ 1.03885544e+00,  1.12859820e-04,  1.37784621e-04]]],      dtype=float64)</details></samp><samp style='font-size: 12px;'><details><summary><b style=\"color: #e55471;\">Tensor</b>(shape=(<b style=\"color: #828fdd;\">2</b>, <b style=\"color: #828fdd;\">2</b>, <b style=\"color: #8a5bcf;\">3</b>), inds=[<b style=\"color: #8d99e3;\">bond_60</b>, <b style=\"color: #d0b491;\">bond_61</b>, <b style=\"color: #cf2a9d;\">k61</b>], tags={<b style=\"color: #94d9c9;\">I61</b>}),</summary>backend=<b style=\"color: #5198e5;\">jax</b>, dtype=<b style=\"color: #75d2c6;\">float64</b>, data=Array([[[ 1.03882634e+00,  1.09120234e-04,  2.21261790e-04],\n",
       "        [-1.43714986e-04, -1.90652887e-04, -5.65645615e-06]],\n",
       "\n",
       "       [[-9.82727496e-05,  5.15152923e-05,  2.70799717e-05],\n",
       "        [ 1.03885544e+00,  1.12859820e-04,  1.37784621e-04]]],      dtype=float64)</details></samp><samp style='font-size: 12px;'><details><summary><b style=\"color: #e55471;\">Tensor</b>(shape=(<b style=\"color: #828fdd;\">2</b>, <b style=\"color: #828fdd;\">2</b>, <b style=\"color: #8a5bcf;\">3</b>), inds=[<b style=\"color: #d0b491;\">bond_61</b>, <b style=\"color: #2dcd51;\">bond_62</b>, <b style=\"color: #54e3b7;\">k62</b>], tags={<b style=\"color: #40d786;\">I62</b>}),</summary>backend=<b style=\"color: #5198e5;\">jax</b>, dtype=<b style=\"color: #75d2c6;\">float64</b>, data=Array([[[ 1.03882634e+00,  1.09120234e-04,  2.21261790e-04],\n",
       "        [-1.43714986e-04, -1.90652887e-04, -5.65645615e-06]],\n",
       "\n",
       "       [[-9.82727496e-05,  5.15152923e-05,  2.70799717e-05],\n",
       "        [ 1.03885544e+00,  1.12859820e-04,  1.37784621e-04]]],      dtype=float64)</details></samp><samp style='font-size: 12px;'><details><summary><b style=\"color: #e55471;\">Tensor</b>(shape=(<b style=\"color: #828fdd;\">2</b>, <b style=\"color: #828fdd;\">2</b>, <b style=\"color: #8a5bcf;\">3</b>), inds=[<b style=\"color: #2dcd51;\">bond_62</b>, <b style=\"color: #d5906e;\">bond_63</b>, <b style=\"color: #5fcebc;\">k63</b>], tags={<b style=\"color: #b157cf;\">I63</b>}),</summary>backend=<b style=\"color: #5198e5;\">jax</b>, dtype=<b style=\"color: #75d2c6;\">float64</b>, data=Array([[[ 1.03882634e+00,  1.09120234e-04,  2.21261790e-04],\n",
       "        [-1.43714986e-04, -1.90652887e-04, -5.65645615e-06]],\n",
       "\n",
       "       [[-9.82727496e-05,  5.15152923e-05,  2.70799717e-05],\n",
       "        [ 1.03885544e+00,  1.12859820e-04,  1.37784621e-04]]],      dtype=float64)</details></samp><samp style='font-size: 12px;'><details><summary><b style=\"color: #e55471;\">Tensor</b>(shape=(<b style=\"color: #828fdd;\">2</b>, <b style=\"color: #828fdd;\">2</b>, <b style=\"color: #8a5bcf;\">3</b>), inds=[<b style=\"color: #d5906e;\">bond_63</b>, <b style=\"color: #95d884;\">bond_64</b>, <b style=\"color: #8dd4b6;\">k64</b>], tags={<b style=\"color: #d2a48d;\">I64</b>}),</summary>backend=<b style=\"color: #5198e5;\">jax</b>, dtype=<b style=\"color: #75d2c6;\">float64</b>, data=Array([[[ 1.03882634e+00,  1.09120234e-04,  2.21261790e-04],\n",
       "        [-1.43714986e-04, -1.90652887e-04, -5.65645615e-06]],\n",
       "\n",
       "       [[-9.82727496e-05,  5.15152923e-05,  2.70799717e-05],\n",
       "        [ 1.03885544e+00,  1.12859820e-04,  1.37784621e-04]]],      dtype=float64)</details></samp><samp style='font-size: 12px;'><details><summary><b style=\"color: #e55471;\">Tensor</b>(shape=(<b style=\"color: #828fdd;\">2</b>, <b style=\"color: #828fdd;\">2</b>, <b style=\"color: #8a5bcf;\">3</b>), inds=[<b style=\"color: #95d884;\">bond_64</b>, <b style=\"color: #ce7dd6;\">bond_65</b>, <b style=\"color: #4ddad5;\">k65</b>], tags={<b style=\"color: #dca369;\">I65</b>}),</summary>backend=<b style=\"color: #5198e5;\">jax</b>, dtype=<b style=\"color: #75d2c6;\">float64</b>, data=Array([[[ 1.03882634e+00,  1.09120234e-04,  2.21261790e-04],\n",
       "        [-1.43714986e-04, -1.90652887e-04, -5.65645615e-06]],\n",
       "\n",
       "       [[-9.82727496e-05,  5.15152923e-05,  2.70799717e-05],\n",
       "        [ 1.03885544e+00,  1.12859820e-04,  1.37784621e-04]]],      dtype=float64)</details></samp><samp style='font-size: 12px;'><details><summary><b style=\"color: #e55471;\">Tensor</b>(shape=(<b style=\"color: #828fdd;\">2</b>, <b style=\"color: #828fdd;\">2</b>, <b style=\"color: #8a5bcf;\">3</b>), inds=[<b style=\"color: #ce7dd6;\">bond_65</b>, <b style=\"color: #ca70cf;\">bond_66</b>, <b style=\"color: #d5b57e;\">k66</b>], tags={<b style=\"color: #6b8adc;\">I66</b>}),</summary>backend=<b style=\"color: #5198e5;\">jax</b>, dtype=<b style=\"color: #75d2c6;\">float64</b>, data=Array([[[ 1.03882634e+00,  1.09120234e-04,  2.21261790e-04],\n",
       "        [-1.43714986e-04, -1.90652887e-04, -5.65645615e-06]],\n",
       "\n",
       "       [[-9.82727496e-05,  5.15152923e-05,  2.70799717e-05],\n",
       "        [ 1.03885544e+00,  1.12859820e-04,  1.37784621e-04]]],      dtype=float64)</details></samp><samp style='font-size: 12px;'><details><summary><b style=\"color: #e55471;\">Tensor</b>(shape=(<b style=\"color: #828fdd;\">2</b>, <b style=\"color: #828fdd;\">2</b>, <b style=\"color: #8a5bcf;\">3</b>), inds=[<b style=\"color: #ca70cf;\">bond_66</b>, <b style=\"color: #3348d2;\">bond_67</b>, <b style=\"color: #d2902e;\">k67</b>], tags={<b style=\"color: #3cce9a;\">I67</b>}),</summary>backend=<b style=\"color: #5198e5;\">jax</b>, dtype=<b style=\"color: #75d2c6;\">float64</b>, data=Array([[[ 1.03882634e+00,  1.09120234e-04,  2.21261790e-04],\n",
       "        [-1.43714986e-04, -1.90652887e-04, -5.65645615e-06]],\n",
       "\n",
       "       [[-9.82727496e-05,  5.15152923e-05,  2.70799717e-05],\n",
       "        [ 1.03885544e+00,  1.12859820e-04,  1.37784621e-04]]],      dtype=float64)</details></samp><samp style='font-size: 12px;'><details><summary><b style=\"color: #e55471;\">Tensor</b>(shape=(<b style=\"color: #828fdd;\">2</b>, <b style=\"color: #828fdd;\">2</b>, <b style=\"color: #8a5bcf;\">3</b>), inds=[<b style=\"color: #3348d2;\">bond_67</b>, <b style=\"color: #7cda59;\">bond_68</b>, <b style=\"color: #dbc05f;\">k68</b>], tags={<b style=\"color: #9ade47;\">I68</b>}),</summary>backend=<b style=\"color: #5198e5;\">jax</b>, dtype=<b style=\"color: #75d2c6;\">float64</b>, data=Array([[[ 1.03882634e+00,  1.09120234e-04,  2.21261790e-04],\n",
       "        [-1.43714986e-04, -1.90652887e-04, -5.65645615e-06]],\n",
       "\n",
       "       [[-9.82727496e-05,  5.15152923e-05,  2.70799717e-05],\n",
       "        [ 1.03885544e+00,  1.12859820e-04,  1.37784621e-04]]],      dtype=float64)</details></samp><samp style='font-size: 12px;'><details><summary><b style=\"color: #e55471;\">Tensor</b>(shape=(<b style=\"color: #828fdd;\">2</b>, <b style=\"color: #828fdd;\">2</b>, <b style=\"color: #8a5bcf;\">3</b>), inds=[<b style=\"color: #7cda59;\">bond_68</b>, <b style=\"color: #d37963;\">bond_69</b>, <b style=\"color: #74d240;\">k69</b>], tags={<b style=\"color: #a2d134;\">I69</b>}),</summary>backend=<b style=\"color: #5198e5;\">jax</b>, dtype=<b style=\"color: #75d2c6;\">float64</b>, data=Array([[[ 1.03882634e+00,  1.09120234e-04,  2.21261790e-04],\n",
       "        [-1.43714986e-04, -1.90652887e-04, -5.65645615e-06]],\n",
       "\n",
       "       [[-9.82727496e-05,  5.15152923e-05,  2.70799717e-05],\n",
       "        [ 1.03885544e+00,  1.12859820e-04,  1.37784621e-04]]],      dtype=float64)</details></samp><samp style='font-size: 12px;'><details><summary><b style=\"color: #e55471;\">Tensor</b>(shape=(<b style=\"color: #828fdd;\">2</b>, <b style=\"color: #828fdd;\">2</b>, <b style=\"color: #8a5bcf;\">3</b>), inds=[<b style=\"color: #d37963;\">bond_69</b>, <b style=\"color: #84da89;\">bond_70</b>, <b style=\"color: #ce8247;\">k70</b>], tags={<b style=\"color: #e4656c;\">I70</b>}),</summary>backend=<b style=\"color: #5198e5;\">jax</b>, dtype=<b style=\"color: #75d2c6;\">float64</b>, data=Array([[[ 1.03882634e+00,  1.09120234e-04,  2.21261790e-04],\n",
       "        [-1.43714986e-04, -1.90652887e-04, -5.65645615e-06]],\n",
       "\n",
       "       [[-9.82727496e-05,  5.15152923e-05,  2.70799717e-05],\n",
       "        [ 1.03885544e+00,  1.12859820e-04,  1.37784621e-04]]],      dtype=float64)</details></samp><samp style='font-size: 12px;'><details><summary><b style=\"color: #e55471;\">Tensor</b>(shape=(<b style=\"color: #828fdd;\">2</b>, <b style=\"color: #828fdd;\">2</b>, <b style=\"color: #8a5bcf;\">3</b>), inds=[<b style=\"color: #84da89;\">bond_70</b>, <b style=\"color: #abdd77;\">bond_71</b>, <b style=\"color: #63c5e0;\">k71</b>], tags={<b style=\"color: #d3827b;\">I71</b>}),</summary>backend=<b style=\"color: #5198e5;\">jax</b>, dtype=<b style=\"color: #75d2c6;\">float64</b>, data=Array([[[ 1.03882634e+00,  1.09120234e-04,  2.21261790e-04],\n",
       "        [-1.43714986e-04, -1.90652887e-04, -5.65645615e-06]],\n",
       "\n",
       "       [[-9.82727496e-05,  5.15152923e-05,  2.70799717e-05],\n",
       "        [ 1.03885544e+00,  1.12859820e-04,  1.37784621e-04]]],      dtype=float64)</details></samp><samp style='font-size: 12px;'><details><summary><b style=\"color: #e55471;\">Tensor</b>(shape=(<b style=\"color: #828fdd;\">2</b>, <b style=\"color: #828fdd;\">2</b>, <b style=\"color: #8a5bcf;\">3</b>), inds=[<b style=\"color: #abdd77;\">bond_71</b>, <b style=\"color: #688fdf;\">bond_72</b>, <b style=\"color: #de84dd;\">k72</b>], tags={<b style=\"color: #7754da;\">I72</b>}),</summary>backend=<b style=\"color: #5198e5;\">jax</b>, dtype=<b style=\"color: #75d2c6;\">float64</b>, data=Array([[[ 1.03882634e+00,  1.09120234e-04,  2.21261790e-04],\n",
       "        [-1.43714986e-04, -1.90652887e-04, -5.65645615e-06]],\n",
       "\n",
       "       [[-9.82727496e-05,  5.15152923e-05,  2.70799717e-05],\n",
       "        [ 1.03885544e+00,  1.12859820e-04,  1.37784621e-04]]],      dtype=float64)</details></samp><samp style='font-size: 12px;'><details><summary><b style=\"color: #e55471;\">Tensor</b>(shape=(<b style=\"color: #828fdd;\">2</b>, <b style=\"color: #828fdd;\">2</b>, <b style=\"color: #8a5bcf;\">3</b>), inds=[<b style=\"color: #688fdf;\">bond_72</b>, <b style=\"color: #5edbd5;\">bond_73</b>, <b style=\"color: #db8379;\">k73</b>], tags={<b style=\"color: #d5789a;\">I73</b>}),</summary>backend=<b style=\"color: #5198e5;\">jax</b>, dtype=<b style=\"color: #75d2c6;\">float64</b>, data=Array([[[ 1.03882634e+00,  1.09120234e-04,  2.21261790e-04],\n",
       "        [-1.43714986e-04, -1.90652887e-04, -5.65645615e-06]],\n",
       "\n",
       "       [[-9.82727496e-05,  5.15152923e-05,  2.70799717e-05],\n",
       "        [ 1.03885544e+00,  1.12859820e-04,  1.37784621e-04]]],      dtype=float64)</details></samp><samp style='font-size: 12px;'><details><summary><b style=\"color: #e55471;\">Tensor</b>(shape=(<b style=\"color: #828fdd;\">2</b>, <b style=\"color: #828fdd;\">2</b>, <b style=\"color: #8a5bcf;\">3</b>), inds=[<b style=\"color: #5edbd5;\">bond_73</b>, <b style=\"color: #58c1d2;\">bond_74</b>, <b style=\"color: #c6d967;\">k74</b>], tags={<b style=\"color: #7ed399;\">I74</b>}),</summary>backend=<b style=\"color: #5198e5;\">jax</b>, dtype=<b style=\"color: #75d2c6;\">float64</b>, data=Array([[[ 1.03882634e+00,  1.09120234e-04,  2.21261790e-04],\n",
       "        [-1.43714986e-04, -1.90652887e-04, -5.65645615e-06]],\n",
       "\n",
       "       [[-9.82727496e-05,  5.15152923e-05,  2.70799717e-05],\n",
       "        [ 1.03885544e+00,  1.12859820e-04,  1.37784621e-04]]],      dtype=float64)</details></samp><samp style='font-size: 12px;'><details><summary><b style=\"color: #e55471;\">Tensor</b>(shape=(<b style=\"color: #828fdd;\">2</b>, <b style=\"color: #828fdd;\">2</b>, <b style=\"color: #8a5bcf;\">3</b>), inds=[<b style=\"color: #58c1d2;\">bond_74</b>, <b style=\"color: #d07a55;\">bond_75</b>, <b style=\"color: #d36a5b;\">k75</b>], tags={<b style=\"color: #37e337;\">I75</b>}),</summary>backend=<b style=\"color: #5198e5;\">jax</b>, dtype=<b style=\"color: #75d2c6;\">float64</b>, data=Array([[[ 1.03882634e+00,  1.09120234e-04,  2.21261790e-04],\n",
       "        [-1.43714986e-04, -1.90652887e-04, -5.65645615e-06]],\n",
       "\n",
       "       [[-9.82727496e-05,  5.15152923e-05,  2.70799717e-05],\n",
       "        [ 1.03885544e+00,  1.12859820e-04,  1.37784621e-04]]],      dtype=float64)</details></samp><samp style='font-size: 12px;'><details><summary><b style=\"color: #e55471;\">Tensor</b>(shape=(<b style=\"color: #828fdd;\">2</b>, <b style=\"color: #828fdd;\">2</b>, <b style=\"color: #8a5bcf;\">3</b>), inds=[<b style=\"color: #d07a55;\">bond_75</b>, <b style=\"color: #84cbd5;\">bond_76</b>, <b style=\"color: #d46b98;\">k76</b>], tags={<b style=\"color: #7bd092;\">I76</b>}),</summary>backend=<b style=\"color: #5198e5;\">jax</b>, dtype=<b style=\"color: #75d2c6;\">float64</b>, data=Array([[[ 1.03882634e+00,  1.09120234e-04,  2.21261790e-04],\n",
       "        [-1.43714986e-04, -1.90652887e-04, -5.65645615e-06]],\n",
       "\n",
       "       [[-9.82727496e-05,  5.15152923e-05,  2.70799717e-05],\n",
       "        [ 1.03885544e+00,  1.12859820e-04,  1.37784621e-04]]],      dtype=float64)</details></samp><samp style='font-size: 12px;'><details><summary><b style=\"color: #e55471;\">Tensor</b>(shape=(<b style=\"color: #828fdd;\">2</b>, <b style=\"color: #828fdd;\">2</b>, <b style=\"color: #8a5bcf;\">3</b>), inds=[<b style=\"color: #84cbd5;\">bond_76</b>, <b style=\"color: #81e084;\">bond_77</b>, <b style=\"color: #d5755a;\">k77</b>], tags={<b style=\"color: #d48a81;\">I77</b>}),</summary>backend=<b style=\"color: #5198e5;\">jax</b>, dtype=<b style=\"color: #75d2c6;\">float64</b>, data=Array([[[ 1.03882634e+00,  1.09120234e-04,  2.21261790e-04],\n",
       "        [-1.43714986e-04, -1.90652887e-04, -5.65645615e-06]],\n",
       "\n",
       "       [[-9.82727496e-05,  5.15152923e-05,  2.70799717e-05],\n",
       "        [ 1.03885544e+00,  1.12859820e-04,  1.37784621e-04]]],      dtype=float64)</details></samp><samp style='font-size: 12px;'><details><summary><b style=\"color: #e55471;\">Tensor</b>(shape=(<b style=\"color: #828fdd;\">2</b>, <b style=\"color: #828fdd;\">2</b>, <b style=\"color: #8a5bcf;\">3</b>), inds=[<b style=\"color: #81e084;\">bond_77</b>, <b style=\"color: #38c5d9;\">bond_78</b>, <b style=\"color: #d8d96c;\">k78</b>], tags={<b style=\"color: #de5b94;\">I78</b>}),</summary>backend=<b style=\"color: #5198e5;\">jax</b>, dtype=<b style=\"color: #75d2c6;\">float64</b>, data=Array([[[ 1.03882634e+00,  1.09120234e-04,  2.21261790e-04],\n",
       "        [-1.43714986e-04, -1.90652887e-04, -5.65645615e-06]],\n",
       "\n",
       "       [[-9.82727496e-05,  5.15152923e-05,  2.70799717e-05],\n",
       "        [ 1.03885544e+00,  1.12859820e-04,  1.37784621e-04]]],      dtype=float64)</details></samp><samp style='font-size: 12px;'><details><summary><b style=\"color: #e55471;\">Tensor</b>(shape=(<b style=\"color: #828fdd;\">2</b>, <b style=\"color: #828fdd;\">2</b>, <b style=\"color: #8a5bcf;\">3</b>), inds=[<b style=\"color: #38c5d9;\">bond_78</b>, <b style=\"color: #35afdc;\">bond_79</b>, <b style=\"color: #e1a08f;\">k79</b>], tags={<b style=\"color: #dabd85;\">I79</b>}),</summary>backend=<b style=\"color: #5198e5;\">jax</b>, dtype=<b style=\"color: #75d2c6;\">float64</b>, data=Array([[[ 1.03882634e+00,  1.09120234e-04,  2.21261790e-04],\n",
       "        [-1.43714986e-04, -1.90652887e-04, -5.65645615e-06]],\n",
       "\n",
       "       [[-9.82727496e-05,  5.15152923e-05,  2.70799717e-05],\n",
       "        [ 1.03885544e+00,  1.12859820e-04,  1.37784621e-04]]],      dtype=float64)</details></samp><samp style='font-size: 12px;'><details><summary><b style=\"color: #e55471;\">Tensor</b>(shape=(<b style=\"color: #828fdd;\">2</b>, <b style=\"color: #828fdd;\">2</b>, <b style=\"color: #8a5bcf;\">3</b>), inds=[<b style=\"color: #35afdc;\">bond_79</b>, <b style=\"color: #48ce89;\">bond_80</b>, <b style=\"color: #95d8bd;\">k80</b>], tags={<b style=\"color: #64d171;\">I80</b>}),</summary>backend=<b style=\"color: #5198e5;\">jax</b>, dtype=<b style=\"color: #75d2c6;\">float64</b>, data=Array([[[ 1.03882634e+00,  1.09120234e-04,  2.21261790e-04],\n",
       "        [-1.43714986e-04, -1.90652887e-04, -5.65645615e-06]],\n",
       "\n",
       "       [[-9.82727496e-05,  5.15152923e-05,  2.70799717e-05],\n",
       "        [ 1.03885544e+00,  1.12859820e-04,  1.37784621e-04]]],      dtype=float64)</details></samp><samp style='font-size: 12px;'><details><summary><b style=\"color: #e55471;\">Tensor</b>(shape=(<b style=\"color: #828fdd;\">2</b>, <b style=\"color: #828fdd;\">2</b>, <b style=\"color: #8a5bcf;\">3</b>), inds=[<b style=\"color: #48ce89;\">bond_80</b>, <b style=\"color: #cf5e59;\">bond_81</b>, <b style=\"color: #76d144;\">k81</b>], tags={<b style=\"color: #93a7de;\">I81</b>}),</summary>backend=<b style=\"color: #5198e5;\">jax</b>, dtype=<b style=\"color: #75d2c6;\">float64</b>, data=Array([[[ 1.03882634e+00,  1.09120234e-04,  2.21261790e-04],\n",
       "        [-1.43714986e-04, -1.90652887e-04, -5.65645615e-06]],\n",
       "\n",
       "       [[-9.82727496e-05,  5.15152923e-05,  2.70799717e-05],\n",
       "        [ 1.03885544e+00,  1.12859820e-04,  1.37784621e-04]]],      dtype=float64)</details></samp><samp style='font-size: 12px;'><details><summary><b style=\"color: #e55471;\">Tensor</b>(shape=(<b style=\"color: #828fdd;\">2</b>, <b style=\"color: #828fdd;\">2</b>, <b style=\"color: #8a5bcf;\">3</b>), inds=[<b style=\"color: #cf5e59;\">bond_81</b>, <b style=\"color: #dd78b8;\">bond_82</b>, <b style=\"color: #33db97;\">k82</b>], tags={<b style=\"color: #d7388e;\">I82</b>}),</summary>backend=<b style=\"color: #5198e5;\">jax</b>, dtype=<b style=\"color: #75d2c6;\">float64</b>, data=Array([[[ 1.03882634e+00,  1.09120234e-04,  2.21261790e-04],\n",
       "        [-1.43714986e-04, -1.90652887e-04, -5.65645615e-06]],\n",
       "\n",
       "       [[-9.82727496e-05,  5.15152923e-05,  2.70799717e-05],\n",
       "        [ 1.03885544e+00,  1.12859820e-04,  1.37784621e-04]]],      dtype=float64)</details></samp><samp style='font-size: 12px;'><details><summary><b style=\"color: #e55471;\">Tensor</b>(shape=(<b style=\"color: #828fdd;\">2</b>, <b style=\"color: #828fdd;\">2</b>, <b style=\"color: #8a5bcf;\">3</b>), inds=[<b style=\"color: #dd78b8;\">bond_82</b>, <b style=\"color: #44cca1;\">bond_83</b>, <b style=\"color: #7cd59e;\">k83</b>], tags={<b style=\"color: #34d4a0;\">I83</b>}),</summary>backend=<b style=\"color: #5198e5;\">jax</b>, dtype=<b style=\"color: #75d2c6;\">float64</b>, data=Array([[[ 1.03882634e+00,  1.09120234e-04,  2.21261790e-04],\n",
       "        [-1.43714986e-04, -1.90652887e-04, -5.65645615e-06]],\n",
       "\n",
       "       [[-9.82727496e-05,  5.15152923e-05,  2.70799717e-05],\n",
       "        [ 1.03885544e+00,  1.12859820e-04,  1.37784621e-04]]],      dtype=float64)</details></samp><samp style='font-size: 12px;'><details><summary><b style=\"color: #e55471;\">Tensor</b>(shape=(<b style=\"color: #828fdd;\">2</b>, <b style=\"color: #828fdd;\">2</b>, <b style=\"color: #8a5bcf;\">3</b>), inds=[<b style=\"color: #44cca1;\">bond_83</b>, <b style=\"color: #d0d078;\">bond_84</b>, <b style=\"color: #98e1b7;\">k84</b>], tags={<b style=\"color: #da2e87;\">I84</b>}),</summary>backend=<b style=\"color: #5198e5;\">jax</b>, dtype=<b style=\"color: #75d2c6;\">float64</b>, data=Array([[[ 1.03882634e+00,  1.09120234e-04,  2.21261790e-04],\n",
       "        [-1.43714986e-04, -1.90652887e-04, -5.65645615e-06]],\n",
       "\n",
       "       [[-9.82727496e-05,  5.15152923e-05,  2.70799717e-05],\n",
       "        [ 1.03885544e+00,  1.12859820e-04,  1.37784621e-04]]],      dtype=float64)</details></samp><samp style='font-size: 12px;'><details><summary><b style=\"color: #e55471;\">Tensor</b>(shape=(<b style=\"color: #828fdd;\">2</b>, <b style=\"color: #828fdd;\">2</b>, <b style=\"color: #8a5bcf;\">3</b>), inds=[<b style=\"color: #d0d078;\">bond_84</b>, <b style=\"color: #56d5b3;\">bond_85</b>, <b style=\"color: #93e59d;\">k85</b>], tags={<b style=\"color: #d968cf;\">I85</b>}),</summary>backend=<b style=\"color: #5198e5;\">jax</b>, dtype=<b style=\"color: #75d2c6;\">float64</b>, data=Array([[[ 1.03882634e+00,  1.09120234e-04,  2.21261790e-04],\n",
       "        [-1.43714986e-04, -1.90652887e-04, -5.65645615e-06]],\n",
       "\n",
       "       [[-9.82727496e-05,  5.15152923e-05,  2.70799717e-05],\n",
       "        [ 1.03885544e+00,  1.12859820e-04,  1.37784621e-04]]],      dtype=float64)</details></samp><samp style='font-size: 12px;'><details><summary><b style=\"color: #e55471;\">Tensor</b>(shape=(<b style=\"color: #828fdd;\">2</b>, <b style=\"color: #828fdd;\">2</b>, <b style=\"color: #8a5bcf;\">3</b>), inds=[<b style=\"color: #56d5b3;\">bond_85</b>, <b style=\"color: #dac074;\">bond_86</b>, <b style=\"color: #bcd791;\">k86</b>], tags={<b style=\"color: #db99ce;\">I86</b>}),</summary>backend=<b style=\"color: #5198e5;\">jax</b>, dtype=<b style=\"color: #75d2c6;\">float64</b>, data=Array([[[ 1.03882634e+00,  1.09120234e-04,  2.21261790e-04],\n",
       "        [-1.43714986e-04, -1.90652887e-04, -5.65645615e-06]],\n",
       "\n",
       "       [[-9.82727496e-05,  5.15152923e-05,  2.70799717e-05],\n",
       "        [ 1.03885544e+00,  1.12859820e-04,  1.37784621e-04]]],      dtype=float64)</details></samp><samp style='font-size: 12px;'><details><summary><b style=\"color: #e55471;\">Tensor</b>(shape=(<b style=\"color: #828fdd;\">2</b>, <b style=\"color: #828fdd;\">2</b>, <b style=\"color: #8a5bcf;\">3</b>), inds=[<b style=\"color: #dac074;\">bond_86</b>, <b style=\"color: #85a8dd;\">bond_87</b>, <b style=\"color: #4935da;\">k87</b>], tags={<b style=\"color: #e561b4;\">I87</b>}),</summary>backend=<b style=\"color: #5198e5;\">jax</b>, dtype=<b style=\"color: #75d2c6;\">float64</b>, data=Array([[[ 1.03882634e+00,  1.09120234e-04,  2.21261790e-04],\n",
       "        [-1.43714986e-04, -1.90652887e-04, -5.65645615e-06]],\n",
       "\n",
       "       [[-9.82727496e-05,  5.15152923e-05,  2.70799717e-05],\n",
       "        [ 1.03885544e+00,  1.12859820e-04,  1.37784621e-04]]],      dtype=float64)</details></samp><samp style='font-size: 12px;'><details><summary><b style=\"color: #e55471;\">Tensor</b>(shape=(<b style=\"color: #828fdd;\">2</b>, <b style=\"color: #828fdd;\">2</b>, <b style=\"color: #8a5bcf;\">3</b>), inds=[<b style=\"color: #85a8dd;\">bond_87</b>, <b style=\"color: #e1d82d;\">bond_88</b>, <b style=\"color: #d088a6;\">k88</b>], tags={<b style=\"color: #307de0;\">I88</b>}),</summary>backend=<b style=\"color: #5198e5;\">jax</b>, dtype=<b style=\"color: #75d2c6;\">float64</b>, data=Array([[[ 1.03882634e+00,  1.09120234e-04,  2.21261790e-04],\n",
       "        [-1.43714986e-04, -1.90652887e-04, -5.65645615e-06]],\n",
       "\n",
       "       [[-9.82727496e-05,  5.15152923e-05,  2.70799717e-05],\n",
       "        [ 1.03885544e+00,  1.12859820e-04,  1.37784621e-04]]],      dtype=float64)</details></samp><samp style='font-size: 12px;'><details><summary><b style=\"color: #e55471;\">Tensor</b>(shape=(<b style=\"color: #828fdd;\">2</b>, <b style=\"color: #828fdd;\">2</b>, <b style=\"color: #8a5bcf;\">3</b>), inds=[<b style=\"color: #e1d82d;\">bond_88</b>, <b style=\"color: #42abd5;\">bond_89</b>, <b style=\"color: #dd8d36;\">k89</b>], tags={<b style=\"color: #8dd2a1;\">I89</b>}),</summary>backend=<b style=\"color: #5198e5;\">jax</b>, dtype=<b style=\"color: #75d2c6;\">float64</b>, data=Array([[[ 1.03882634e+00,  1.09120234e-04,  2.21261790e-04],\n",
       "        [-1.43714986e-04, -1.90652887e-04, -5.65645615e-06]],\n",
       "\n",
       "       [[-9.82727496e-05,  5.15152923e-05,  2.70799717e-05],\n",
       "        [ 1.03885544e+00,  1.12859820e-04,  1.37784621e-04]]],      dtype=float64)</details></samp><samp style='font-size: 12px;'><details><summary><b style=\"color: #e55471;\">Tensor</b>(shape=(<b style=\"color: #828fdd;\">2</b>, <b style=\"color: #828fdd;\">2</b>, <b style=\"color: #8a5bcf;\">3</b>), inds=[<b style=\"color: #42abd5;\">bond_89</b>, <b style=\"color: #836bd2;\">bond_90</b>, <b style=\"color: #3fe0c0;\">k90</b>], tags={<b style=\"color: #9be1bb;\">I90</b>}),</summary>backend=<b style=\"color: #5198e5;\">jax</b>, dtype=<b style=\"color: #75d2c6;\">float64</b>, data=Array([[[ 1.03882634e+00,  1.09120234e-04,  2.21261790e-04],\n",
       "        [-1.43714986e-04, -1.90652887e-04, -5.65645615e-06]],\n",
       "\n",
       "       [[-9.82727496e-05,  5.15152923e-05,  2.70799717e-05],\n",
       "        [ 1.03885544e+00,  1.12859820e-04,  1.37784621e-04]]],      dtype=float64)</details></samp><samp style='font-size: 12px;'><details><summary><b style=\"color: #e55471;\">Tensor</b>(shape=(<b style=\"color: #828fdd;\">2</b>, <b style=\"color: #828fdd;\">2</b>, <b style=\"color: #8a5bcf;\">3</b>), inds=[<b style=\"color: #836bd2;\">bond_90</b>, <b style=\"color: #d08d6f;\">bond_91</b>, <b style=\"color: #70e091;\">k91</b>], tags={<b style=\"color: #854cd5;\">I91</b>}),</summary>backend=<b style=\"color: #5198e5;\">jax</b>, dtype=<b style=\"color: #75d2c6;\">float64</b>, data=Array([[[ 1.03882634e+00,  1.09120234e-04,  2.21261790e-04],\n",
       "        [-1.43714986e-04, -1.90652887e-04, -5.65645615e-06]],\n",
       "\n",
       "       [[-9.82727496e-05,  5.15152923e-05,  2.70799717e-05],\n",
       "        [ 1.03885544e+00,  1.12859820e-04,  1.37784621e-04]]],      dtype=float64)</details></samp><samp style='font-size: 12px;'><details><summary><b style=\"color: #e55471;\">Tensor</b>(shape=(<b style=\"color: #828fdd;\">2</b>, <b style=\"color: #828fdd;\">2</b>, <b style=\"color: #8a5bcf;\">3</b>), inds=[<b style=\"color: #d08d6f;\">bond_91</b>, <b style=\"color: #cf866b;\">bond_92</b>, <b style=\"color: #9d63d1;\">k92</b>], tags={<b style=\"color: #39ccd8;\">I92</b>}),</summary>backend=<b style=\"color: #5198e5;\">jax</b>, dtype=<b style=\"color: #75d2c6;\">float64</b>, data=Array([[[ 1.03882634e+00,  1.09120234e-04,  2.21261790e-04],\n",
       "        [-1.43714986e-04, -1.90652887e-04, -5.65645615e-06]],\n",
       "\n",
       "       [[-9.82727496e-05,  5.15152923e-05,  2.70799717e-05],\n",
       "        [ 1.03885544e+00,  1.12859820e-04,  1.37784621e-04]]],      dtype=float64)</details></samp><samp style='font-size: 12px;'><details><summary><b style=\"color: #e55471;\">Tensor</b>(shape=(<b style=\"color: #828fdd;\">2</b>, <b style=\"color: #828fdd;\">2</b>, <b style=\"color: #8a5bcf;\">3</b>), inds=[<b style=\"color: #cf866b;\">bond_92</b>, <b style=\"color: #8074d6;\">bond_93</b>, <b style=\"color: #c8db48;\">k93</b>], tags={<b style=\"color: #a07fd3;\">I93</b>}),</summary>backend=<b style=\"color: #5198e5;\">jax</b>, dtype=<b style=\"color: #75d2c6;\">float64</b>, data=Array([[[ 1.03882634e+00,  1.09120234e-04,  2.21261790e-04],\n",
       "        [-1.43714986e-04, -1.90652887e-04, -5.65645615e-06]],\n",
       "\n",
       "       [[-9.82727496e-05,  5.15152923e-05,  2.70799717e-05],\n",
       "        [ 1.03885544e+00,  1.12859820e-04,  1.37784621e-04]]],      dtype=float64)</details></samp><samp style='font-size: 12px;'><details><summary><b style=\"color: #e55471;\">Tensor</b>(shape=(<b style=\"color: #828fdd;\">2</b>, <b style=\"color: #828fdd;\">2</b>, <b style=\"color: #8a5bcf;\">3</b>), inds=[<b style=\"color: #8074d6;\">bond_93</b>, <b style=\"color: #9bd4e3;\">bond_94</b>, <b style=\"color: #9d4cd3;\">k94</b>], tags={<b style=\"color: #db7ed3;\">I94</b>}),</summary>backend=<b style=\"color: #5198e5;\">jax</b>, dtype=<b style=\"color: #75d2c6;\">float64</b>, data=Array([[[ 1.03882634e+00,  1.09120234e-04,  2.21261790e-04],\n",
       "        [-1.43714986e-04, -1.90652887e-04, -5.65645615e-06]],\n",
       "\n",
       "       [[-9.82727496e-05,  5.15152923e-05,  2.70799717e-05],\n",
       "        [ 1.03885544e+00,  1.12859820e-04,  1.37784621e-04]]],      dtype=float64)</details></samp><samp style='font-size: 12px;'><details><summary><b style=\"color: #e55471;\">Tensor</b>(shape=(<b style=\"color: #828fdd;\">2</b>, <b style=\"color: #828fdd;\">2</b>, <b style=\"color: #8a5bcf;\">3</b>), inds=[<b style=\"color: #9bd4e3;\">bond_94</b>, <b style=\"color: #cfd14d;\">bond_95</b>, <b style=\"color: #b197e0;\">k95</b>], tags={<b style=\"color: #869cd7;\">I95</b>}),</summary>backend=<b style=\"color: #5198e5;\">jax</b>, dtype=<b style=\"color: #75d2c6;\">float64</b>, data=Array([[[ 1.03882634e+00,  1.09120234e-04,  2.21261790e-04],\n",
       "        [-1.43714986e-04, -1.90652887e-04, -5.65645615e-06]],\n",
       "\n",
       "       [[-9.82727496e-05,  5.15152923e-05,  2.70799717e-05],\n",
       "        [ 1.03885544e+00,  1.12859820e-04,  1.37784621e-04]]],      dtype=float64)</details></samp><samp style='font-size: 12px;'><details><summary><b style=\"color: #e55471;\">Tensor</b>(shape=(<b style=\"color: #828fdd;\">2</b>, <b style=\"color: #828fdd;\">2</b>, <b style=\"color: #8a5bcf;\">3</b>), inds=[<b style=\"color: #cfd14d;\">bond_95</b>, <b style=\"color: #8dd8ab;\">bond_96</b>, <b style=\"color: #b359e0;\">k96</b>], tags={<b style=\"color: #5cc9e5;\">I96</b>}),</summary>backend=<b style=\"color: #5198e5;\">jax</b>, dtype=<b style=\"color: #75d2c6;\">float64</b>, data=Array([[[ 1.03882634e+00,  1.09120234e-04,  2.21261790e-04],\n",
       "        [-1.43714986e-04, -1.90652887e-04, -5.65645615e-06]],\n",
       "\n",
       "       [[-9.82727496e-05,  5.15152923e-05,  2.70799717e-05],\n",
       "        [ 1.03885544e+00,  1.12859820e-04,  1.37784621e-04]]],      dtype=float64)</details></samp><samp style='font-size: 12px;'><details><summary><b style=\"color: #e55471;\">Tensor</b>(shape=(<b style=\"color: #828fdd;\">2</b>, <b style=\"color: #828fdd;\">2</b>, <b style=\"color: #8a5bcf;\">3</b>, <b style=\"color: #31d651;\">10</b>), inds=[<b style=\"color: #8dd8ab;\">bond_96</b>, <b style=\"color: #b8d15f;\">bond_97</b>, <b style=\"color: #675ece;\">k97</b>, <b style=\"color: #d66bc0;\">b_97</b>], tags={<b style=\"color: #d59cde;\">I97</b>}),</summary>backend=<b style=\"color: #5198e5;\">jax</b>, dtype=<b style=\"color: #75d2c6;\">float64</b>, data=...</details></samp><samp style='font-size: 12px;'><details><summary><b style=\"color: #e55471;\">Tensor</b>(shape=(<b style=\"color: #828fdd;\">2</b>, <b style=\"color: #828fdd;\">2</b>, <b style=\"color: #8a5bcf;\">3</b>), inds=[<b style=\"color: #b8d15f;\">bond_97</b>, <b style=\"color: #d46dbc;\">bond_98</b>, <b style=\"color: #d79764;\">k98</b>], tags={<b style=\"color: #64d478;\">I98</b>}),</summary>backend=<b style=\"color: #5198e5;\">jax</b>, dtype=<b style=\"color: #75d2c6;\">float64</b>, data=Array([[[ 1.03882634e+00,  1.09120234e-04,  2.21261790e-04],\n",
       "        [-1.43714986e-04, -1.90652887e-04, -5.65645615e-06]],\n",
       "\n",
       "       [[-9.82727496e-05,  5.15152923e-05,  2.70799717e-05],\n",
       "        [ 1.03885544e+00,  1.12859820e-04,  1.37784621e-04]]],      dtype=float64)</details></samp><samp style='font-size: 12px;'><details><summary><b style=\"color: #e55471;\">Tensor</b>(shape=(<b style=\"color: #828fdd;\">2</b>, <b style=\"color: #828fdd;\">2</b>, <b style=\"color: #8a5bcf;\">3</b>), inds=[<b style=\"color: #d46dbc;\">bond_98</b>, <b style=\"color: #6ec7e3;\">bond_99</b>, <b style=\"color: #e247a5;\">k99</b>], tags={<b style=\"color: #97a4de;\">I99</b>}),</summary>backend=<b style=\"color: #5198e5;\">jax</b>, dtype=<b style=\"color: #75d2c6;\">float64</b>, data=Array([[[ 1.03882634e+00,  1.09120234e-04,  2.21261790e-04],\n",
       "        [-1.43714986e-04, -1.90652887e-04, -5.65645615e-06]],\n",
       "\n",
       "       [[-9.82727496e-05,  5.15152923e-05,  2.70799717e-05],\n",
       "        [ 1.03885544e+00,  1.12859820e-04,  1.37784621e-04]]],      dtype=float64)</details></samp><p>...</p></details></samp>"
      ],
      "text/plain": [
       "TensorNetwork(tensors=196, indices=394, L=196, max_bond=10)"
      ]
     },
     "execution_count": 29,
     "metadata": {},
     "output_type": "execute_result"
    }
   ],
   "source": [
    "model"
   ]
  },
  {
   "cell_type": "code",
   "execution_count": 30,
   "metadata": {},
   "outputs": [],
   "source": [
    "#model.canonicalize(canonical_center, inplace=True)"
   ]
  },
  {
   "cell_type": "code",
   "execution_count": 31,
   "metadata": {},
   "outputs": [
    {
     "data": {
      "text/plain": [
       "Array(1., dtype=float64)"
      ]
     },
     "execution_count": 31,
     "metadata": {},
     "output_type": "execute_result"
    }
   ],
   "source": [
    "model.norm()"
   ]
  },
  {
   "cell_type": "code",
   "execution_count": 32,
   "metadata": {},
   "outputs": [],
   "source": [
    "def MSE_loss(*args, **kwargs):\n",
    "    return loss_wrapper_optax(optax.softmax_cross_entropy)(*args, **kwargs).mean()"
   ]
  },
  {
   "cell_type": "markdown",
   "metadata": {},
   "source": [
    "**When using cross-entropy loss I need to put reduce_mean**"
   ]
  },
  {
   "cell_type": "code",
   "execution_count": 33,
   "metadata": {},
   "outputs": [],
   "source": [
    "# training parameters\n",
    "optimizer = optax.adam\n",
    "strategy = 'global'\n",
    "loss = MSE_loss\n",
    "train_type = 1\n",
    "embedding = polynomial(degree=2) # if using randn\n",
    "#embedding = trigonometric() # if using rand_unitary\n",
    "learning_rate = 1e-4\n",
    "\n",
    "# Exponential decay of the learning rate.\n",
    "scheduler = optax.exponential_decay(\n",
    "    init_value=1e-4,\n",
    "    transition_steps=1000,\n",
    "    decay_rate=0.01)\n",
    "\n",
    "# Combining gradient transforms using `optax.chain`.\n",
    "gradient_transforms = [\n",
    "    optax.clip_by_global_norm(1.0),  # Clip by the gradient by the global norm.\n",
    "    optax.scale_by_adam(),  # Use the updates from adam.\n",
    "    optax.scale_by_schedule(scheduler),  # Use the learning rate from the scheduler.\n",
    "    # Scale updates by -1 since optax.apply_updates is additive and we want to descend on the loss.\n",
    "    optax.scale(-1.0)\n",
    "]"
   ]
  },
  {
   "cell_type": "code",
   "execution_count": 34,
   "metadata": {},
   "outputs": [],
   "source": [
    "model.configure(optimizer=optimizer, strategy=strategy, loss=loss, train_type=train_type, learning_rate=learning_rate)"
   ]
  },
  {
   "cell_type": "code",
   "execution_count": 35,
   "metadata": {},
   "outputs": [],
   "source": [
    "epochs = 10\n",
    "batch_size = 64"
   ]
  },
  {
   "cell_type": "code",
   "execution_count": 36,
   "metadata": {},
   "outputs": [
    {
     "name": "stderr",
     "output_type": "stream",
     "text": [
      "epoch:   0%|          | 0/10 [00:00<?, ?it/s]"
     ]
    }
   ],
   "source": [
    "history = model.train(train_inputs,\n",
    "                    targets = train_targets,\n",
    "                    val_inputs = val_inputs,\n",
    "                    val_targets = val_targets,\n",
    "                    epochs = epochs,\n",
    "                    batch_size = batch_size,\n",
    "                    embedding = embedding,\n",
    "                    normalize = True,\n",
    "                    cache=False, # for now True not working for classification\n",
    "                    display_val_acc=True,\n",
    "                    val_batch_size=64,\n",
    "                    dtype = jnp.float64)"
   ]
  },
  {
   "cell_type": "code",
   "execution_count": null,
   "metadata": {},
   "outputs": [],
   "source": [
    "# model.configure(gradient_transforms=gradient_transforms)"
   ]
  },
  {
   "cell_type": "code",
   "execution_count": null,
   "metadata": {},
   "outputs": [],
   "source": [
    "epochs = 280"
   ]
  },
  {
   "cell_type": "code",
   "execution_count": null,
   "metadata": {},
   "outputs": [],
   "source": [
    "# history = model.train(train_inputs,\n",
    "#                     targets = train_targets,\n",
    "#                     val_inputs = val_inputs,\n",
    "#                     val_targets = val_targets,\n",
    "#                     epochs = epochs,\n",
    "#                     batch_size = batch_size,\n",
    "#                     embedding = embedding,\n",
    "#                     normalize = True,\n",
    "#                     cache=False,\n",
    "#                     dtype = jnp.float64)"
   ]
  },
  {
   "cell_type": "code",
   "execution_count": null,
   "metadata": {},
   "outputs": [
    {
     "data": {
      "image/png": "[encoded data removed]",
      "text/plain": [
       "<Figure size 640x480 with 1 Axes>"
      ]
     },
     "metadata": {},
     "output_type": "display_data"
    }
   ],
   "source": [
    "import matplotlib.pyplot as plt\n",
    "# plot loss\n",
    "plt.figure()\n",
    "plt.plot(range(len(model.history['loss'])), model.history['loss'], label='train')\n",
    "plt.plot(range(len(model.history['val_loss'])), model.history['val_loss'], label='validation')\n",
    "plt.legend()\n",
    "plt.show()"
   ]
  },
  {
   "cell_type": "code",
   "execution_count": null,
   "metadata": {},
   "outputs": [],
   "source": [
    "# save the model\n",
    "#model.save('model', 'tests/mnist_class_unit')"
   ]
  },
  {
   "cell_type": "markdown",
   "metadata": {},
   "source": [
    "**Evaluate**"
   ]
  },
  {
   "cell_type": "code",
   "execution_count": null,
   "metadata": {},
   "outputs": [],
   "source": [
    "from tn4ml.models.model import _batch_iterator"
   ]
  },
  {
   "cell_type": "code",
   "execution_count": null,
   "metadata": {},
   "outputs": [
    {
     "name": "stdout",
     "output_type": "stream",
     "text": [
      "Accuracy: 0.9273838141025641\n"
     ]
    }
   ],
   "source": [
    "batch_size = 64\n",
    "correct_predictions = 0\n",
    "num_samples = 0\n",
    "for batch_data in _batch_iterator(test_inputs, test_targets, batch_size=batch_size):\n",
    "    x, y = batch_data\n",
    "    x = jnp.array(x, dtype=jnp.float64)\n",
    "    y = jnp.array(y, dtype=jnp.float64)\n",
    "\n",
    "    y_pred = jnp.squeeze(jnp.array(jax.vmap(model.predict, in_axes=(0, None, None))(x, embedding, False)))\n",
    "    predicted = jnp.argmax(y_pred, axis=-1)\n",
    "    true = jnp.argmax(y, axis=-1)\n",
    "\n",
    "    correct_predictions += jnp.sum(predicted ==true).item()\n",
    "    num_samples += y_pred.shape[0]\n",
    "\n",
    "accuracy = correct_predictions / num_samples\n",
    "print(f\"Accuracy: {accuracy}\")"
   ]
  }
 ],
 "metadata": {
  "kernelspec": {
   "display_name": "workspace",
   "language": "python",
   "name": "python3"
  },
  "language_info": {
   "codemirror_mode": {
    "name": "ipython",
    "version": 3
   },
   "file_extension": ".py",
   "mimetype": "text/x-python",
   "name": "python",
   "nbconvert_exporter": "python",
   "pygments_lexer": "ipython3",
   "version": "3.12.0"
  }
 },
 "nbformat": 4,
 "nbformat_minor": 2
}
