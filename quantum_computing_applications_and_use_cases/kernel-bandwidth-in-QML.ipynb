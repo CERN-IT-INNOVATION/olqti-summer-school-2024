{
 "cells": [
  {
   "cell_type": "code",
   "execution_count": null,
   "metadata": {},
   "outputs": [
    {
     "name": "stdout",
     "output_type": "stream",
     "text": [
      "The autoreload extension is already loaded. To reload it, use:\n",
      "  %reload_ext autoreload\n"
     ]
    }
   ],
   "source": [
    "%load_ext autoreload\n",
    "%autoreload 2\n",
    "\n",
    "import numpy as np\n",
    "\n",
    "# import tensorflow as tf\n",
    "from keras.datasets import fashion_mnist\n",
    "\n",
    "from quask.core import Ansatz, Kernel, KernelFactory, KernelType\n",
    "from quask.core_implementation import QiskitKernel, PennylaneKernel\n",
    "from quask.evaluator import HaarEvaluator, LieRankEvaluator\n",
    "\n",
    "from sklearn.svm import SVC\n",
    "from sklearn.metrics import accuracy_score\n",
    "from sklearn.metrics.pairwise import linear_kernel, rbf_kernel\n",
    "\n",
    "import matplotlib.pyplot as plt\n",
    "import matplotlib as mpl"
   ]
  },
  {
   "cell_type": "markdown",
   "metadata": {},
   "source": [
    "# Importance of Kernel Bandwidth in QML"
   ]
  },
  {
   "cell_type": "markdown",
   "metadata": {},
   "source": [
    "Hi all in this tutorial!\n",
    "\n",
    "The goal of this notebook is to leverage metrics in Quantum Machine Learning (QML) to obtain useful insights in a simple example. Kernel methods are very powerful but we know that we can encounter the orthogonality catastrophe. To avoid that we can use projected kernel, group invariant machine learning, and kernel bandwidth.\n",
    "The first two require some knowledge about the dataset so that we can embed an **inductive bias** in our Quantum Kernels.\n",
    "In the Kernel Bandwidth, we perform a global scaling of its features, making it a problem agnostic procedure. This kernel was introduced in [Importance of Kernel Bandwidth in Quantum Machine Learning](https://arxiv.org/abs/2211.16551) from which this tutorial takes its name.\n",
    "\n",
    "You will see that the scaling of the kernel features affects the performance of a classification task and the Haar cost as defined in [Expressibility and entangling capability of parameterized quantum circuits for hybrid quantum‐classical algorithms](https://arxiv.org/abs/1905.10876), while has no effect on the Lie Rank of the kernel introduced in [Diagnosing Barren Plateaus with Tools from Quantum Optimal Control](https://arxiv.org/abs/2105.14377).\n",
    "\n",
    "In Quask there are more [evaluators](https://quask.readthedocs.io/en/latest/tutorials_quask/quask_1_evaluators.html) that can help you in a wide plethora of QML problems, it is your turn to find out!"
   ]
  },
  {
   "cell_type": "markdown",
   "metadata": {},
   "source": [
    "## Fashion-MNIST Dataset\n",
    "\n",
    "The Fashion-MNIST dataset is an image classification for distinguishing clothing items. We follow the preprocessing of the input data as done in [The power of data in Quantum Machine Learning](https://arxiv.org/abs/2011.01938). We use Principal Component Analysis (PCA) to reduce each image to an $n$-dimensional vector, the so-called **feature** vector."
   ]
  },
  {
   "cell_type": "code",
   "execution_count": 2,
   "metadata": {},
   "outputs": [
    {
     "name": "stdout",
     "output_type": "stream",
     "text": [
      "Number of original training examples: 60000\n",
      "Number of original test examples: 10000\n",
      "Number of filtered training examples: 12000\n",
      "Number of filtered test examples: 2000\n",
      "True\n"
     ]
    },
    {
     "data": {
      "text/plain": [
       "<matplotlib.colorbar.Colorbar at 0x11b5662ebd0>"
      ]
     },
     "execution_count": 2,
     "metadata": {},
     "output_type": "execute_result"
    },
    {
     "data": {
      "image/png": "[encoded data removed]",
      "text/plain": [
       "<Figure size 640x480 with 2 Axes>"
      ]
     },
     "metadata": {},
     "output_type": "display_data"
    }
   ],
   "source": [
    "(x_train, y_train), (x_test, y_test) = tf.keras.datasets.fashion_mnist.load_data()\n",
    "\n",
    "# Rescale the images from [0,255] to the [0.0,1.0] range.\n",
    "x_train, x_test = x_train/255.0, x_test/255.0\n",
    "\n",
    "print(\"Number of original training examples:\", len(x_train))\n",
    "print(\"Number of original test examples:\", len(x_test))\n",
    "\n",
    "def filter_03(x, y):\n",
    "    keep = (y == 0) | (y == 3)\n",
    "    x, y = x[keep], y[keep]\n",
    "    y = y == 0\n",
    "    return x,y\n",
    "\n",
    "x_train, y_train = filter_03(x_train, y_train)\n",
    "x_test, y_test = filter_03(x_test, y_test)\n",
    "\n",
    "print(\"Number of filtered training examples:\", len(x_train))\n",
    "print(\"Number of filtered test examples:\", len(x_test))\n",
    "\n",
    "print(y_train[0])\n",
    "\n",
    "plt.imshow(x_train[0, :, :])\n",
    "plt.colorbar()"
   ]
  },
  {
   "cell_type": "code",
   "execution_count": 3,
   "metadata": {},
   "outputs": [],
   "source": [
    "# =============================================================================\n",
    "# Create dataset\n",
    "# =============================================================================  \n",
    "def create_dataset(N_TRAIN: int, features_DIM: int, n_test: float=0.2):\n",
    "    \"\"\"\n",
    "    create dataset\n",
    "\n",
    "    This function loads data from the fashion_mnist and manipulates\n",
    "    data to suit our problem, e.g. normalization and feature selection.\n",
    "\n",
    "    N_TRAIN: int - number of training data to train our ML model\n",
    "    features_DIM: int - number of features will have each datum. It corresponds to\n",
    "                  the number of qubits if the encoding is one to one.\n",
    "    n_test: float - percentage of datapoints we need for the test.\n",
    "    \"\"\"\n",
    "    # load data\n",
    "    (X_train, y_train), (X_test, y_test) = tf.keras.datasets.fashion_mnist.load_data()\n",
    "\n",
    "    # convert to float in order to normalize the values of the features\n",
    "    X_train = X_train.astype('float32')\n",
    "    X_test = X_test.astype('float32')\n",
    "\n",
    "    # normalization of the features from [0,255] to [0,1]\n",
    "    X_train /= 255\n",
    "    X_test /= 255\n",
    "    \n",
    "    # select only two classes to have a binary classification problem\n",
    "    # =============================================================================\n",
    "    # filter 0-3\n",
    "    # =============================================================================\n",
    "    def filter_03(x, y):\n",
    "        \"\"\"\n",
    "        filter 0-3\n",
    "\n",
    "        This function keeps only the dresses and t-shorts of the\n",
    "        fashion mnist dataset in order to have only a binary classification problem\n",
    "\n",
    "        x: datapoint vector\n",
    "        y: target/label vector relative to the x vector\n",
    "\n",
    "        \"\"\"\n",
    "        keep = (y == 0) | (y == 3)\n",
    "        x, y = x[keep], y[keep]\n",
    "        y = y == 0\n",
    "        return x,y\n",
    "    \n",
    "    # apply the filter \n",
    "    X_train, y_train = filter_03(X_train, y_train)\n",
    "    X_test, y_test = filter_03(X_test, y_test)\n",
    "    # =============================================================================\n",
    "    # Truncate x\n",
    "    # =============================================================================\n",
    "    def truncate_x(X_train, X_test, n_components=features_DIM):\n",
    "        \"\"\"\n",
    "        truncate x\n",
    "\n",
    "        Perform PCA on image dataset keeping the top `n_components` components.\n",
    "        \n",
    "        X_train: training dataset\n",
    "        X_test: test dataset\n",
    "        n_components: number of features we want to keep after PCA\n",
    "\n",
    "        \"\"\"\n",
    "        n_points_train = tf.gather(tf.shape(X_train), 0)\n",
    "        n_points_test = tf.gather(tf.shape(X_test), 0)\n",
    "\n",
    "        # Flatten to 1D\n",
    "        X_train = tf.reshape(X_train, [n_points_train, -1])\n",
    "        X_test = tf.reshape(X_test, [n_points_test, -1])\n",
    "\n",
    "        # Normalize.\n",
    "        feature_mean = tf.reduce_mean(X_train, axis=0)\n",
    "        X_train_normalized = X_train - feature_mean\n",
    "        X_test_normalized = X_test - feature_mean\n",
    "\n",
    "        # Truncate.\n",
    "        e_values, e_vectors = tf.linalg.eigh(\n",
    "          tf.einsum('ji,jk->ik', X_train_normalized, X_train_normalized))\n",
    "        return tf.einsum('ij,jk->ik', X_train_normalized, e_vectors[:,-n_components:]), \\\n",
    "          tf.einsum('ij,jk->ik', X_test_normalized, e_vectors[:, -n_components:])\n",
    "\n",
    "    # truncating datasets\n",
    "    X_train, X_test = truncate_x(X_train, X_test, n_components=features_DIM)\n",
    "    \n",
    "    print(f'New datapoint dimension:', len(X_train[0]))    \n",
    "\n",
    "    # restrict the dataset to a smaller ensemble\n",
    "    N_TEST = round(N_TRAIN*n_test)\n",
    "    X_train, X_test = X_train[:N_TRAIN], X_test[:N_TEST]\n",
    "    y_train, y_test = y_train[:N_TRAIN], y_test[:N_TEST]\n",
    "\n",
    "    print('Number of datapoints', len(X_train))\n",
    "    \n",
    "    X_train = np.reshape(X_train, (len(X_train), features_DIM))\n",
    "    X_test = np.reshape(X_test, (len(X_test), features_DIM))\n",
    "\n",
    "    print('Data loaded.')\n",
    "    return X_train, X_test, y_train, y_test"
   ]
  },
  {
   "cell_type": "code",
   "execution_count": null,
   "metadata": {},
   "outputs": [],
   "source": [
    "# =============================================================================\n",
    "# Create dataset\n",
    "# =============================================================================  \n",
    "def create_dataset(N_TRAIN: int, features_DIM: int, n_test: float=0.2):\n",
    "    \"\"\"\n",
    "    Create dataset from Fashion MNIST.\n",
    "\n",
    "    N_TRAIN: int - number of training data to train our ML model\n",
    "    features_DIM: int - number of features for each datum, corresponding to qubits.\n",
    "    n_test: float - percentage of datapoints for the test.\n",
    "    \"\"\"\n",
    "    # Load data\n",
    "    (X_train, y_train), (X_test, y_test) = fashion_mnist.load_data()\n",
    "\n",
    "    # Convert to float to normalize\n",
    "    X_train = X_train.astype('float32') / 255\n",
    "    X_test = X_test.astype('float32') / 255\n",
    "    \n",
    "    # Filter classes 0 (T-shirt) and 3 (Dress)\n",
    "    def filter_03(x, y):\n",
    "        keep = (y == 0) | (y == 3)\n",
    "        x, y = x[keep], y[keep]\n",
    "        y = y == 0\n",
    "        return x, y\n",
    "    \n",
    "    X_train, y_train = filter_03(X_train, y_train)\n",
    "    X_test, y_test = filter_03(X_test, y_test)\n",
    "\n",
    "    # Truncate x using PCA\n",
    "    def truncate_x(X_train, X_test, n_components=features_DIM):\n",
    "        n_points_train = X_train.shape[0]\n",
    "        n_points_test = X_test.shape[0]\n",
    "\n",
    "        # Flatten to 1D\n",
    "        X_train = X_train.reshape(n_points_train, -1)\n",
    "        X_test = X_test.reshape(n_points_test, -1)\n",
    "\n",
    "        # Normalize\n",
    "        feature_mean = np.mean(X_train, axis=0)\n",
    "        X_train_normalized = X_train - feature_mean\n",
    "        X_test_normalized = X_test - feature_mean\n",
    "\n",
    "        # Truncate using PCA\n",
    "        e_values, e_vectors = np.linalg.eigh(np.cov(X_train_normalized.T))\n",
    "        return np.dot(X_train_normalized, e_vectors[:, -n_components:]), \\\n",
    "               np.dot(X_test_normalized, e_vectors[:, -n_components:])\n",
    "\n",
    "    # Truncating datasets\n",
    "    X_train, X_test = truncate_x(X_train, X_test, n_components=features_DIM)\n",
    "    \n",
    "    print(f'New datapoint dimension:', len(X_train[0]))    \n",
    "\n",
    "    # Restrict the dataset to a smaller ensemble\n",
    "    N_TEST = round(N_TRAIN * n_test)\n",
    "    X_train, X_test = X_train[:N_TRAIN], X_test[:N_TEST]\n",
    "    y_train, y_test = y_train[:N_TRAIN], y_test[:N_TEST]\n",
    "\n",
    "    print('Number of datapoints', len(X_train))\n",
    "    \n",
    "    X_train = np.reshape(X_train, (len(X_train), features_DIM))\n",
    "    X_test = np.reshape(X_test, (len(X_test), features_DIM))\n",
    "\n",
    "    print('Data loaded.')\n",
    "    return X_train, X_test, y_train, y_test\n"
   ]
  },
  {
   "cell_type": "code",
   "execution_count": 2,
   "metadata": {},
   "outputs": [
    {
     "name": "stdout",
     "output_type": "stream",
     "text": [
      "New datapoint dimension: 5\n",
      "Number of datapoints 800\n",
      "Data loaded.\n"
     ]
    },
    {
     "data": {
      "text/plain": [
       "(160, 5)"
      ]
     },
     "execution_count": 2,
     "metadata": {},
     "output_type": "execute_result"
    }
   ],
   "source": [
    "X_train, X_test, y_train, y_test = create_dataset(N_TRAIN=800, features_DIM=5)\n",
    "X_test.shape"
   ]
  },
  {
   "cell_type": "markdown",
   "metadata": {},
   "source": [
    "## The Quantum Feature Map\n",
    "\n",
    "Actually, the number of features for one image (thus, one circuit embedding) could be bigger than the number of qubits $d$ according to the feature map we pick. In this case we again refer to a well known feature map called Instantaneous Quantum Polynomial (IQP) feature map which was first introduced in [Supervised learning with quantum enhanced feature spaces](https://arxiv.org/abs/1804.11326). \n",
    "\n",
    "$$|\\textbf{x}_i\\rangle = U_{Z}(\\textbf{x}_i) H^{\\otimes d} U_{Z}(\\textbf{x}_i) H^{\\otimes d}|0^d\\rangle$$\n",
    "\n",
    "where\n",
    "\n",
    "$$ U_{Z}(\\textbf{x}_i) = \\text{exp} \\left( \\sum_{j=1}^d \\lambda x_{ij}Z_j + \\sum_{j=1}^d \\sum_{j'=1}^d \\lambda^2 x_{ij} x_{ij'} Z_j Z_{j'} \\right) \\quad . $$\n",
    "\n",
    "These unitaries form the ZZFeatureMap.  \n",
    "Then, our feature array contains both the single-qubit and two-qubit features (the product of the single-qubit features pair entangled by the map scheme).\n",
    "\n",
    "$$ \\textbf{x}_i = (x_{i1}\\;, x_{i2}\\;, ..., x_{id}\\;, \\lambda x_{i1}x_{i2}\\;, \\lambda x_{i1}x_{i3}\\;, ..., \\lambda x_{id-1}x_{id}\\;) .$$\n",
    "\n",
    "The number of additional features depends on the type of entanglement we choose. The ZZFeatureMap has a full entanglement scheme which brings to an additional number of features equal to $\\binom{d}{2}$. Finally, the total number of features for a single datapoint (as in, image) equals to $d + \\binom{d}{2}$.\n",
    "\n",
    "Below, you can find also two other feature maps, a Quantum Many-Body inspired one (can be found a similar one in  [Exploring entanglement and optimization within the hamiltonian variational ansatz](https://arxiv.org/abs/2008.02941)) and a single qubit $R_X$ rotations wall."
   ]
  },
  {
   "cell_type": "markdown",
   "metadata": {},
   "source": [
    "## Embedding the datapoints\n",
    "\n",
    "In `QuASK`, we need to state both the number of features and operations that we are going to perform to construct the ansatz.\n",
    "\n",
    "The number of operations we have to perform following the `IPQCircuit` map are:\n",
    "\n",
    "$$ \\underbrace{\\left(d + \\frac{d(d-1)}{2} \\right)}_{U_{Z}(\\textbf{x}_i)} + \\underbrace{d}_{H^{\\otimes d}} + \\underbrace{\\left(d + \\frac{d(d-1)}{2} \\right)}_{U_{Z}(\\textbf{x}_i)} + \\underbrace{d}_{H^{\\otimes d}} $$\n",
    "\n",
    "which is simply:\n",
    "\n",
    "$$ d^2 + 3 d \\quad .$$\n",
    "\n",
    "While, the number of operations we have to perform following the `QMBCircuit` map are:\n",
    "\n",
    "$$ \\underbrace{\\left(d-1\\right)}_{U_{ZZ}(\\textbf{x}_i\\textbf{x}_{i+1})} + \\underbrace{\\left(d\\right)}_{U_{X}(\\textbf{x}_i)} $$\n",
    "\n",
    "which is simply:\n",
    "\n",
    "$$ 2d - 1 \\quad .$$\n",
    "\n",
    "And eventually, the number of operations we have to perform following the `LinearCircuit` map are simply:\n",
    "\n",
    "$$ d \\quad $$\n",
    "\n",
    "since we perform only single qubit $R_X(\\textbf{x}_i)$ rotations. So the number of features matches the number of qubits.\n",
    "\n",
    "Henceforth, we are going to use only the linear kernel for the sake of time, but you are free to use also the other two which will be more time consuming."
   ]
  },
  {
   "cell_type": "code",
   "execution_count": 9,
   "metadata": {},
   "outputs": [
    {
     "name": "stdout",
     "output_type": "stream",
     "text": [
      "{'pennylane_noiseless_lightning': <function create_pennylane_noiseless at 0x000001640D540EA0>}\n",
      "pennylane_noiseless_lightning\n"
     ]
    }
   ],
   "source": [
    "def create_pennylane_noiseless(ansatz: Ansatz, measurement: str, type: KernelType):\n",
    "    return PennylaneKernel(ansatz, measurement, type, device_name=\"lightning.qubit\", n_shots=None)\n",
    "\n",
    "KernelFactory.add_implementation('pennylane_noiseless_lightning', create_pennylane_noiseless)\n",
    "KernelFactory.set_current_implementation('pennylane_noiseless_lightning')\n",
    "print(KernelFactory._KernelFactory__implementations)\n",
    "print(KernelFactory._KernelFactory__current_implementation)"
   ]
  },
  {
   "cell_type": "code",
   "execution_count": 4,
   "metadata": {},
   "outputs": [],
   "source": [
    "# =============================================================================\n",
    "# IQP Kernel\n",
    "# =============================================================================\n",
    "def UZCircuit(ansatz, bandwidth, count=0):\n",
    "    d = ansatz.n_qubits\n",
    "    # Z term - local\n",
    "    for k in range(d):\n",
    "        ansatz.change_operation(count, new_feature=k, new_wires=[k, (k+1)%d], new_generator=\"IZ\", new_bandwidth=bandwidth)\n",
    "        count += 1\n",
    "\n",
    "    # ZZ term - full entanglement \n",
    "    for i in range(d-1):\n",
    "        for j in range(i+1, d):\n",
    "            ansatz.change_operation(count, new_feature=k+i, new_wires=[i, j], new_generator=\"ZZ\", new_bandwidth=bandwidth)\n",
    "            count += 1\n",
    "\n",
    "    return ansatz, count\n",
    "\n",
    "def HCircuit(ansatz, bandwidth=1, count=0):\n",
    "    d = ansatz.n_qubits\n",
    "    n_features = d + d*(d-1)/2 + 1 # we have the last feature fixed to one for non-parametrizable gates\n",
    "    for i in range(d):\n",
    "        ansatz.change_operation(count, new_feature=n_features, new_wires=[i, (i+1)%d], new_generator=\"IX\", new_bandwidth=np.pi/2) # R_x(pi/2)\n",
    "        ansatz.change_operation(count+1, new_feature=n_features, new_wires=[i, (i+1)%d], new_generator=\"IZ\", new_bandwidth=np.pi/2) # R_z(pi/2)\n",
    "        ansatz.change_operation(count+2, new_feature=n_features, new_wires=[i, (i+1)%d], new_generator=\"IX\", new_bandwidth=np.pi/2) # R_x(pi/2)\n",
    "        ansatz.change_operation(count+3, new_feature=n_features, new_wires=[i, (i+1)%d], new_generator=\"II\", new_bandwidth=np.pi)   # e^(i pi/2)\n",
    "\n",
    "    count = count + 3\n",
    "    return ansatz, count\n",
    "\n",
    "def IQPCircuit(ansatz, bandwidth):\n",
    "    # first U_Z(x_i)\n",
    "    ansatz_uz1, count_uz1 = UZCircuit(ansatz, bandwidth)\n",
    "    # first layer of hadamard gates\n",
    "    ansatz_uz1h1, count_uz1h1 = HCircuit(ansatz_uz1, bandwidth, count=count_uz1)\n",
    "    # second U_Z(x_i)\n",
    "    ansatz_uz1h1uz2, count_uz1h1uz2 = UZCircuit(ansatz_uz1h1, bandwidth, count=count_uz1h1)\n",
    "    # second layer of hadamard gates\n",
    "    ansatz_uz1h1uz2h2, _ = HCircuit(ansatz_uz1h1uz2, bandwidth, count=count_uz1h1uz2)\n",
    "    return ansatz_uz1h1uz2h2\n",
    "\n",
    "# we can define a new function to construct the Ansatz since we will loop for different bandwidth values\n",
    "def VaryingBandwidthQuantumKernel(N_FEATURES, N_QUBITS, N_OPERATIONS, bandwidth):\n",
    "    ansatz = Ansatz(n_features=N_FEATURES, n_qubits=N_QUBITS, n_operations=N_OPERATIONS)\n",
    "    ansatz.initialize_to_identity()\n",
    "    # we choose a IQPCircuit\n",
    "    circuit = IQPCircuit(ansatz, bandwidth)\n",
    "    # kernel = KernelFactory.create_kernel(circuit, \"Z\" * N_QUBITS, KernelType.FIDELITY)\n",
    "    kernel = KernelFactory.create_kernel(circuit, \"Z\" * N_QUBITS, KernelType.OBSERVABLE)\n",
    "    return kernel\n",
    "\n",
    "# =============================================================================\n",
    "# Ising-like Kernel\n",
    "# =============================================================================\n",
    "# help funciton to select on which qubit we want to perform our measurement\n",
    "def measurement_qubit(N_QUBITS, measurement):\n",
    "    pauli_string = \"\"\n",
    "    for i in range(N_QUBITS):\n",
    "        if i < measurement:\n",
    "            pauli_string = pauli_string + \"I\"\n",
    "        if i == measurement:\n",
    "            pauli_string = pauli_string + \"Z\"\n",
    "        if i > measurement:\n",
    "            pauli_string = pauli_string + \"I\"\n",
    "    return pauli_string\n",
    "\n",
    "# let us define the Ansatz which implements this\n",
    "def QMBCircuit(ansatz, bandwidth):\n",
    "    d = ansatz.n_qubits\n",
    "    # linear CZ entanglement\n",
    "    for j in range(d-1):\n",
    "        ansatz.change_operation(j, new_feature=d+j, new_wires=[j, j+1], new_generator=\"ZZ\", new_bandwidth=bandwidth)\n",
    "\n",
    "    # single qubit rotations in x: RX wall\n",
    "    for i in range(d):\n",
    "        j += 1\n",
    "        ansatz.change_operation(j, new_feature=i, new_wires=[i, (i+1)%d], new_generator=\"IX\", new_bandwidth=bandwidth)\n",
    "    return ansatz\n",
    "\n",
    "def ManyBodyQuantumKernel(N_FEATURES, N_QUBITS, N_OPERATIONS, bandwidth, measurement=None):\n",
    "    ansatz = Ansatz(n_features=N_FEATURES, n_qubits=N_QUBITS, n_operations=N_OPERATIONS)\n",
    "    ansatz.initialize_to_identity()\n",
    "    # we choose a IQPCircuit\n",
    "    circuit = QMBCircuit(ansatz, bandwidth)\n",
    "    kernel = KernelFactory.create_kernel(circuit, \"Z\" * N_QUBITS, KernelType.FIDELITY)\n",
    "    # kernel = KernelFactory.create_kernel(circuit, measurement_qubit(N_QUBITS=N_QUBITS, measurement=measurement), KernelType.OBSERVABLE)\n",
    "    # kernel = KernelFactory.create_kernel(circuit, \"Z\" * N_QUBITS, KernelType.OBSERVABLE)\n",
    "    return kernel\n",
    "\n",
    "\n",
    "# =============================================================================\n",
    "# Linear (single-qubit gates) Kernel\n",
    "# =============================================================================\n",
    "def LinearCircuit(ansatz, bandwidth):\n",
    "    d = ansatz.n_qubits\n",
    "    # single qubit rotations in x: RX wall\n",
    "    for i in range(d):\n",
    "        ansatz.change_operation(i, new_feature=i, new_wires=[i, (i+1)%d], new_generator=\"IX\", new_bandwidth=bandwidth)\n",
    "    return ansatz\n",
    "\n",
    "def LinearQuantumKernel(N_FEATURES, N_QUBITS, N_OPERATIONS, bandwidth, platform=\"finite_shots\", n_shots=None):\n",
    "    ansatz = Ansatz(n_features=N_FEATURES, n_qubits=N_QUBITS, n_operations=N_OPERATIONS)\n",
    "    ansatz.initialize_to_identity()\n",
    "    # choose linear circuit\n",
    "    circuit = LinearCircuit(ansatz, bandwidth)\n",
    "\n",
    "    kernel = KernelFactory.create_kernel(circuit, \"Z\" * N_QUBITS, KernelType.FIDELITY)\n",
    "    # kernel = KernelFactory.create_kernel(circuit, \"Z\" * N_QUBITS, KernelType.OBSERVABLE)\n",
    "    return kernel"
   ]
  },
  {
   "cell_type": "code",
   "execution_count": 5,
   "metadata": {},
   "outputs": [],
   "source": [
    "# modify the datapoints for quask\n",
    "\n",
    "def quask_features_iqp(data, bandwidth):\n",
    "    new_data = []\n",
    "    for datapoint in data:\n",
    "        new_datapoint = datapoint\n",
    "        for i in range(len(datapoint)-1):\n",
    "            for j in range(i+1, len(datapoint)):\n",
    "                new_datapoint = np.append(new_datapoint, bandwidth*datapoint[i]*datapoint[j])\n",
    "        new_datapoint = np.append(new_datapoint, 1)\n",
    "        new_data.append(new_datapoint)\n",
    "    new_data = np.array(new_data)\n",
    "    return new_data\n",
    "\n",
    "def quask_features_qmb(data):\n",
    "    new_data = []\n",
    "    for datapoint in data:\n",
    "        new_datapoint = datapoint\n",
    "        for i in range(len(datapoint)-1):\n",
    "            new_datapoint = np.append(new_datapoint, datapoint[i]*datapoint[i+1])\n",
    "        new_data.append(new_datapoint)\n",
    "    new_data = np.array(new_data)\n",
    "    return new_data"
   ]
  },
  {
   "cell_type": "markdown",
   "metadata": {},
   "source": [
    "Some Help functions"
   ]
  },
  {
   "cell_type": "code",
   "execution_count": 6,
   "metadata": {},
   "outputs": [],
   "source": [
    "def accuracy(classifier, X, Y_target):\n",
    "    return 1 - np.count_nonzero(classifier.predict(X) - Y_target) / len(Y_target)\n",
    "\n",
    "def create_sequential_colors(num_colors, colormap_name: str='viridis'):\n",
    "    \"\"\"\n",
    "    create_sequential_colors\n",
    "\n",
    "    This function creates a sequence of colors extracted from a specified colormap.\n",
    "\n",
    "    num_colors: int - number of colors we want to extract\n",
    "    colormap_name: string - colormap name we want to use\n",
    "\n",
    "    \"\"\"\n",
    "    colormap = mpl.colormaps[colormap_name]\n",
    "    colormap_values = np.linspace(0, 1, num_colors)\n",
    "    colors = [colormap(value) for value in colormap_values]\n",
    "    return colors"
   ]
  },
  {
   "cell_type": "markdown",
   "metadata": {},
   "source": [
    "## `Qiskit` with `QuASK`"
   ]
  },
  {
   "cell_type": "markdown",
   "metadata": {},
   "source": [
    "Add a qiskit kernel to the QuASK Kernel factory. This object will then become an implementation which you can call for general ansatz. In particular, we now create a noiseless one"
   ]
  },
  {
   "cell_type": "code",
   "execution_count": null,
   "metadata": {},
   "outputs": [
    {
     "name": "stdout",
     "output_type": "stream",
     "text": [
      "{'qiskit_noiseless': <function create_qiskit_noiseless at 0x0000011B73142A20>}\n",
      "qiskit_noiseless\n"
     ]
    }
   ],
   "source": [
    "def create_qiskit_noiseless(ansatz: Ansatz, measurement: str, type: KernelType):\n",
    "    return QiskitKernel(ansatz, measurement, type, platform=\"infty_shots\")\n",
    "\n",
    "KernelFactory.add_implementation('qiskit_noiseless', create_qiskit_noiseless)\n",
    "KernelFactory.set_current_implementation('qiskit_noiseless')\n",
    "print(KernelFactory._KernelFactory__implementations)\n",
    "print(KernelFactory._KernelFactory__current_implementation)"
   ]
  },
  {
   "cell_type": "markdown",
   "metadata": {},
   "source": [
    "### Example of overlap circuit"
   ]
  },
  {
   "cell_type": "code",
   "execution_count": 125,
   "metadata": {},
   "outputs": [
    {
     "name": "stdout",
     "output_type": "stream",
     "text": [
      "New datapoint dimension: 4\n",
      "Number of datapoints 10\n",
      "Data loaded.\n",
      "As expected, the overlaps of the data with themselves are: [0.9999999999999997, 0.9999999999999998, 1.0, 0.9999999999999998, 1.0000000000000002, 1.0, 0.9999999999999998, 1.0, 1.0000000000000002, 1.0]\n"
     ]
    },
    {
     "data": {
      "image/png": "[encoded data removed]",
      "text/plain": [
       "<Figure size 287.496x367.889 with 1 Axes>"
      ]
     },
     "execution_count": 125,
     "metadata": {},
     "output_type": "execute_result"
    }
   ],
   "source": [
    "d = 4\n",
    "n_tr = 10\n",
    "X_train, X_test, y_train, y_test = create_dataset(N_TRAIN=n_tr, features_DIM=d, n_test=1)\n",
    "kernel = LinearQuantumKernel(N_FEATURES=d, N_QUBITS=d, N_OPERATIONS=d, bandwidth=1)\n",
    "kernel.platform = \"infty_shots\"\n",
    "print(f\"As expected, the overlaps of the data with themselves are: {[kernel.kappa(X_train[i],X_train[i]) for i in range(X_train.shape[0])]}\")\n",
    "qc1 = kernel.get_qiskit_ansatz().assign_parameters(X_train[5])\n",
    "qc2 = kernel.get_qiskit_ansatz().assign_parameters(X_train[9])\n",
    "qc = UnitaryOverlap(qc1,qc2)\n",
    "qc.decompose(reps=1).draw('mpl')"
   ]
  },
  {
   "cell_type": "markdown",
   "metadata": {},
   "source": [
    "### Quantum Kernel Estimation in a classification problem"
   ]
  },
  {
   "cell_type": "markdown",
   "metadata": {},
   "source": [
    "Run the Fashion-MNIST with `LinearQuantumKernel`, changing $\\beta$ the bandwidth scaling factor inside the local rotations $R_X(\\beta\\textbf{x}_i)$."
   ]
  },
  {
   "cell_type": "markdown",
   "metadata": {},
   "source": [
    "If you want to run the below problem with finite shots instead of infinite use:"
   ]
  },
  {
   "cell_type": "code",
   "execution_count": null,
   "metadata": {},
   "outputs": [
    {
     "name": "stdout",
     "output_type": "stream",
     "text": [
      "{'qiskit_shots': <function create_qiskit_kernel at 0x00000208FB9EDF80>}\n"
     ]
    }
   ],
   "source": [
    "def create_qiskit_kernel(ansatz: Ansatz, measurement: str, type: KernelType):\n",
    "    return QiskitKernel(ansatz, measurement, type, platform=\"finite_shots\")\n",
    "\n",
    "KernelFactory.add_implementation('qiskit_shots', create_qiskit_kernel)\n",
    "KernelFactory.set_current_implementation('qiskit_shots')\n",
    "print(KernelFactory._KernelFactory__implementations)\n",
    "\n",
    "n_shots = None # define shots if you want to run with this"
   ]
  },
  {
   "cell_type": "code",
   "execution_count": null,
   "metadata": {},
   "outputs": [],
   "source": [
    "n_tr = 30\n",
    "num_qubits = [3]\n",
    "bandwidths = np.logspace(-3,1,20)\n",
    "accuracy_qubit = []\n",
    "for d in num_qubits:\n",
    "    # features_quask_iqp = d + d*(d-1)/2 + 1\n",
    "    # features_quask_qmb = 2*d - 1\n",
    "    # operations_quask_iqp = d**2 + 3*d \n",
    "    # operations_quask_qmb = 2*d - 1 \n",
    "\n",
    "    X_train, X_test, y_train, y_test = create_dataset(N_TRAIN=n_tr, features_DIM=d, n_test=0.3)\n",
    "    y_train = np.array([1 if y == True else -1 for y in y_train])\n",
    "    y_test = np.array([1 if y == True else -1 for y in y_test])\n",
    "\n",
    "    accuracy_beta = []\n",
    "    for beta in bandwidths:\n",
    "        print(f\"Qubits: {d}, beta: {beta}\")\n",
    "        # X_train_q = quask_features_iqp(X_train, beta)\n",
    "        # X_test_q = quask_features_iqp(X_test, beta)\n",
    "        # kernel = ManyBodyAnsatz(N_FEATURES=features_quask, N_QUBITS=d, N_OPERATIONS=operations_quask, bandwidth=beta, measurement=2)\n",
    "        # kernel = VaryingBandwidthKernel(N_FEATURES=features_quask, N_QUBITS=d, N_OPERATIONS=operations_quask, bandwidth=beta)\n",
    "        kernel = LinearQuantumKernel(N_FEATURES=d, N_QUBITS=d, N_OPERATIONS=d, bandwidth=beta)\n",
    "        # kernel.n_shots = n_shots # uncomment if you run with finite shots\n",
    "        print(\"building training kernel...\")\n",
    "        K_train = kernel.build_kernel(X_train, X_train, matrix=\"train\")\n",
    "        print(\"building testing kernel...\")\n",
    "        K_test = kernel.build_kernel(X_test, X_train, matrix=\"test\")\n",
    "        print(\"computing accuracy...\")\n",
    "        svm = SVC(kernel='precomputed').fit(K_train, y_train)\n",
    "        accuracy_res = accuracy(svm, K_test, y_test)\n",
    "        accuracy_beta.append(accuracy_res)\n",
    "    accuracy_qubit.append(accuracy_beta)"
   ]
  },
  {
   "cell_type": "code",
   "execution_count": 153,
   "metadata": {},
   "outputs": [
    {
     "data": {
      "text/plain": [
       "<matplotlib.legend.Legend at 0x11b8e7ad2b0>"
      ]
     },
     "execution_count": 153,
     "metadata": {},
     "output_type": "execute_result"
    },
    {
     "data": {
      "image/png": "[encoded data removed]",
      "text/plain": [
       "<Figure size 640x480 with 1 Axes>"
      ]
     },
     "metadata": {},
     "output_type": "display_data"
    }
   ],
   "source": [
    "# plot the results\n",
    "colors = create_sequential_colors(num_qubits[0])\n",
    "\n",
    "plt.plot(bandwidths, accuracy_beta, color=colors[0], label=f\"{num_qubits[0]}\")\n",
    "plt.xscale('log')\n",
    "plt.title(\"fminst\")\n",
    "plt.xlabel(\"Scaling factor\")\n",
    "plt.ylabel(\"Prediction accuracy\")\n",
    "plt.hlines(y=0.5, xmin=bandwidths[0], xmax=bandwidths[-1], linestyles='--', colors='black', label=\"random guessing\")\n",
    "plt.legend()"
   ]
  },
  {
   "cell_type": "markdown",
   "metadata": {},
   "source": [
    "### Inifite $vs$ Finite shots kernels"
   ]
  },
  {
   "cell_type": "code",
   "execution_count": null,
   "metadata": {},
   "outputs": [
    {
     "name": "stdout",
     "output_type": "stream",
     "text": [
      "{'qiskit_noiseless': <function create_qiskit_noiseless at 0x0000011B73142A20>, 'qiskit_shots': <function create_qiskit_finite_shots at 0x0000011B8C0B6A20>, 'qiskit_kernel': <function create_qiskit_kernel at 0x0000011B8C96E5C0>}\n"
     ]
    }
   ],
   "source": [
    "def create_qiskit_kernel(ansatz: Ansatz, measurement: str, type: KernelType):\n",
    "    return QiskitKernel(ansatz, measurement, type, platform=\"finite_shots\")\n",
    "\n",
    "# KernelFactory.add_implementation('qiskit_shots', create_qiskit_kernel)\n",
    "KernelFactory.set_current_implementation('qiskit_shots')\n",
    "print(KernelFactory._KernelFactory__implementations)"
   ]
  },
  {
   "cell_type": "code",
   "execution_count": null,
   "metadata": {},
   "outputs": [],
   "source": [
    "# Number of runs to estimate the standard deviation\n",
    "num_runs = 10\n",
    "shots_list = [10,100,1000]\n",
    "# Initialize lists to store accuracies for multiple runs\n",
    "acc_shots_qis = []\n",
    "beta_best = bandwidths[np.argmax(accuracy_beta)]\n",
    "\n",
    "# Iterate over the number of shots\n",
    "for n_shots in shots_list:\n",
    "    n_shots = int(n_shots)\n",
    "    print(f\"Shots: {n_shots}\")\n",
    "    \n",
    "    # Initialize lists for accuracies of current shot count\n",
    "    qis_accuracies = []\n",
    "    for run in range(num_runs):\n",
    "        print(f\"Run {run+1}/{num_runs}\")\n",
    "\n",
    "        # Qiskit Kernel Estimation\n",
    "        kernel = LinearQuantumKernel(N_FEATURES=d, N_QUBITS=d, N_OPERATIONS=d, bandwidth=beta_best)\n",
    "        kernel.n_shots = n_shots\n",
    "        print(\"building training kernel...\")\n",
    "        K_train = kernel.build_kernel(X_train, X_train, matrix=\"train\")\n",
    "        print(\"building testing kernel...\")\n",
    "        K_test = kernel.build_kernel(X_test, X_train, matrix=\"test\")\n",
    "        print(\"computing accuracy...\")\n",
    "        svm = SVC(kernel='precomputed').fit(K_train, y_train)\n",
    "        accuracy_res = accuracy(svm, K_test, y_test)\n",
    "        qis_accuracies.append(accuracy_res)\n",
    "\n",
    "    # Append mean accuracy and standard deviation for Qiskit\n",
    "    acc_shots_qis.append({\n",
    "        'shots': n_shots,\n",
    "        'mean': np.mean(qis_accuracies),\n",
    "        'std': np.std(qis_accuracies)\n",
    "    })\n",
    "\n",
    "    # Print mean and standard deviation for current number of shots\n",
    "    # print(f\"Pennylane Kernel (shots={n_shots}): Mean accuracy = {np.mean(penn_accuracies):.3f}, Std = {np.std(penn_accuracies):.3f}\")\n",
    "    print(f\"Qiskit Kernel (shots={n_shots}): Mean accuracy = {np.mean(qis_accuracies):.3f}, Std = {np.std(qis_accuracies):.3f}\")"
   ]
  },
  {
   "cell_type": "code",
   "execution_count": 156,
   "metadata": {},
   "outputs": [
    {
     "data": {
      "image/png": "[encoded data removed]",
      "text/plain": [
       "<Figure size 640x480 with 1 Axes>"
      ]
     },
     "metadata": {},
     "output_type": "display_data"
    }
   ],
   "source": [
    "exact_qiskit = np.max(accuracy_beta)\n",
    "# Plot the exact statevector results as horizontal lines\n",
    "plt.hlines(y=exact_qiskit, xmin=shots_list[0], xmax=shots_list[-1], linestyle='--', color='g', linewidth=1, label='Qiskit (statevector)')\n",
    "\n",
    "# Plot the Qiskit results with error bars (mean accuracy and standard deviation)\n",
    "qis_means = [entry['mean'] for entry in acc_shots_qis]\n",
    "qis_stds = [entry['std'] for entry in acc_shots_qis]\n",
    "plt.plot(shots_list, qis_means, marker='1', markersize=10, linewidth=1, label='Qiskit shots', color='darkturquoise')\n",
    "plt.fill_between(shots_list, \n",
    "                 [m - s for m, s in zip(qis_means, qis_stds)], \n",
    "                 [m + s for m, s in zip(qis_means, qis_stds)], \n",
    "                 color='darkturquoise', alpha=0.2)\n",
    "\n",
    "# Set logarithmic scale for the x-axis (number of shots)\n",
    "plt.xscale('log')\n",
    "\n",
    "# Labels and legend\n",
    "plt.xlabel(\"Number of shots\")\n",
    "plt.ylabel(\"Accuracy\")\n",
    "plt.legend()\n",
    "\n",
    "# Show the plot\n",
    "plt.show()"
   ]
  },
  {
   "cell_type": "markdown",
   "metadata": {},
   "source": [
    "## ``Haar evaluator`` with `Quask`"
   ]
  },
  {
   "cell_type": "code",
   "execution_count": null,
   "metadata": {},
   "outputs": [],
   "source": [
    "KernelFactory.set_current_implementation('qiskit_noiseless')\n",
    "for d in num_qubits:\n",
    "\n",
    "    X_train, X_test, y_train, y_test = create_dataset(N_TRAIN=n_tr, features_DIM=d, n_test=0.3)\n",
    "    y_train = np.array([1 if y == True else -1 for y in y_train])\n",
    "    y_test = np.array([1 if y == True else -1 for y in y_test])\n",
    "\n",
    "    cost_he_beta = []\n",
    "    cost_lre_beta = []\n",
    "    for beta in bandwidths:\n",
    "        print(f\"Qubits: {d}, beta: {beta}\")\n",
    "        kernel = LinearQuantumKernel(N_FEATURES=d, N_QUBITS=d, N_OPERATIONS=d, bandwidth=beta)\n",
    "        print(\"building training kernel...\")\n",
    "        K_train = kernel.build_kernel(X_train, X_train, matrix=\"train\")\n",
    "        print(\"Haar evaluator...\")\n",
    "        he = HaarEvaluator(n_bins=40, n_samples=n_tr)\n",
    "        cost_he = he.evaluate(kernel=kernel, K=K_train, X=None, y=None)\n",
    "        print(f\"--- {cost_he}\")\n",
    "        print(\"Lie Rank evaluator...\")\n",
    "        lre = LieRankEvaluator(T=500)\n",
    "        cost_lre = lre.evaluate(kernel=kernel, K=None, X=None, y=None)\n",
    "        print(f\"--- {cost_lre}\")\n",
    "        cost_he_beta.append(cost_he)\n",
    "        cost_lre_beta.append(-cost_lre)"
   ]
  },
  {
   "cell_type": "code",
   "execution_count": 158,
   "metadata": {},
   "outputs": [
    {
     "data": {
      "text/plain": [
       "<matplotlib.legend.Legend at 0x11ba0283a10>"
      ]
     },
     "execution_count": 158,
     "metadata": {},
     "output_type": "execute_result"
    },
    {
     "data": {
      "image/png": "[encoded data removed]",
      "text/plain": [
       "<Figure size 640x480 with 1 Axes>"
      ]
     },
     "metadata": {},
     "output_type": "display_data"
    }
   ],
   "source": [
    "# plot the results\n",
    "colors = ['#FF6666', '#66B2FF', '#8AC926']\n",
    "\n",
    "plt.plot(bandwidths, accuracy_beta, color=colors[0], label=f\"Accuracy\")\n",
    "plt.plot(bandwidths, cost_he_beta, color=colors[1], label=f\"Haar Evaluator\")\n",
    "plt.plot(bandwidths, cost_lre_beta, color=colors[2], label=f\"Lie Rank Evaluator\")\n",
    "plt.xscale('log')\n",
    "plt.yscale('log')\n",
    "plt.title(\"Kernel Bandwidth accuracy $vs$ Haar cost\")\n",
    "plt.xlabel(\"Scaling factor\")\n",
    "plt.ylabel(\"values\")\n",
    "# plt.hlines(y=0.5, xmin=bandwidths[0], xmax=bandwidths[-1], linestyles='--', colors='black', label=\"random guessing\")\n",
    "plt.legend()"
   ]
  },
  {
   "cell_type": "markdown",
   "metadata": {},
   "source": [
    "## IBM Quantum Hardware with `Quask`"
   ]
  },
  {
   "cell_type": "markdown",
   "metadata": {},
   "source": [
    "For the sake of simplicity we perform a small example where we use one of the IBM QPUs to estimate an entry of our Quantum Kernel matrix. Quask creates kernels independently from the backend as abstract objects. To use `qiskit` we specify the argument `platform`."
   ]
  },
  {
   "cell_type": "code",
   "execution_count": 38,
   "metadata": {},
   "outputs": [
    {
     "name": "stdout",
     "output_type": "stream",
     "text": [
      "{'qiskit_noiseless': <function create_qiskit_noiseless at 0x0000011B73142A20>, 'qiskit_shots': <function create_qiskit_finite_shots at 0x0000011B8C0B6A20>, 'qiskit_kernel': <function create_qiskit_kernel at 0x0000011B8C96E5C0>}\n"
     ]
    }
   ],
   "source": [
    "from quask.core_implementation import QiskitKernel\n",
    "def create_qiskit_kernel(ansatz: Ansatz, measurement: str, type: KernelType):\n",
    "    return QiskitKernel(ansatz, measurement, type, platform=\"ibm_quantum\")\n",
    "\n",
    "KernelFactory.add_implementation('qiskit_kernel_qpu', create_qiskit_kernel)\n",
    "KernelFactory.set_current_implementation('qiskit_kernel_qpu')\n",
    "print(KernelFactory._KernelFactory__implementations)"
   ]
  },
  {
   "cell_type": "code",
   "execution_count": 60,
   "metadata": {},
   "outputs": [],
   "source": [
    "channel = \"ibm_quantum\"\n",
    "platform = channel\n",
    "\n",
    "# do not define any device for 'least_busy()' option\n",
    "## Open Plan devices\n",
    "device = \"ibm_kyiv\"\n",
    "# device = \"ibm_sherbrooke\"\n",
    "# device = \"ibm_brisbane\"\n",
    "\n",
    "## Premium Plan devices\n",
    "# device = \"ibm_torino\"\n",
    "# device = \"ibm_fez\"\n",
    "\n",
    "\n",
    "ibm_token = \"\" # insert here your ibm token\n",
    "# group_instance = \"ibm-q-ikerbasque/generic/generic-project\" # insert here your ibm group instance relative to your project\n",
    "group_instance = \"ibm-q/open/main\" # insert here your free access ibm instance"
   ]
  },
  {
   "cell_type": "code",
   "execution_count": 61,
   "metadata": {},
   "outputs": [],
   "source": [
    "# backend options\n",
    "n_shots = 10000\n",
    "dd_seq = \"XY4\"\n",
    "tw_g = True\n",
    "tw_m = True\n",
    "\n",
    "sampler_options = {\n",
    "    \"default_shots\": n_shots,\n",
    "    \"dynamical_decoupling\": {\n",
    "        \"enable\": bool(dd_seq),\n",
    "        \"sequence_type\": dd_seq\n",
    "    },\n",
    "    \"twirling\": {\n",
    "        \"enable_gates\": tw_g,\n",
    "        \"enable_measure\": tw_m,\n",
    "        \"num_randomizations\": \"auto\",\n",
    "        \"shots_per_randomization\": \"auto\"\n",
    "    }\n",
    "}\n",
    "\n",
    "# transpilation options\n",
    "layout = None\n",
    "optimization_level = 2"
   ]
  },
  {
   "cell_type": "code",
   "execution_count": 62,
   "metadata": {},
   "outputs": [],
   "source": [
    "# create the linear kernel for backend support and initialize it\n",
    "d = 3 \n",
    "kernel = LinearQuantumKernel(N_FEATURES=d, N_QUBITS=d, N_OPERATIONS=d, bandwidth=bandwidths[-3])\n",
    "kernel.get_backend(channel, ibm_token, group_instance, device)\n",
    "kernel.platform = platform\n",
    "kernel.n_shots = n_shots\n",
    "kernel.options = sampler_options\n",
    "kernel.optimization_level = optimization_level\n",
    "kernel.layout = layout"
   ]
  },
  {
   "cell_type": "markdown",
   "metadata": {},
   "source": [
    "Send job to the QPU selected"
   ]
  },
  {
   "cell_type": "code",
   "execution_count": 66,
   "metadata": {},
   "outputs": [
    {
     "name": "stdout",
     "output_type": "stream",
     "text": [
      "Job sent to hardware. Job ID: cwgfd1w9r49g00860h70\n"
     ]
    }
   ],
   "source": [
    "# the kernel in fully initialized and we can execute to the hardware\n",
    "kernel_entry_job = kernel.build_kernel(X_train[15], X_train[29])"
   ]
  },
  {
   "cell_type": "markdown",
   "metadata": {},
   "source": [
    "We can plot the sampling of the different configurations "
   ]
  },
  {
   "cell_type": "code",
   "execution_count": 81,
   "metadata": {},
   "outputs": [
    {
     "data": {
      "image/png": "[encoded data removed]",
      "text/plain": [
       "<Figure size 640x480 with 1 Axes>"
      ]
     },
     "metadata": {},
     "output_type": "display_data"
    }
   ],
   "source": [
    "counts = kernel_entry_job.result()[0].data.meas.get_counts()\n",
    "keys = [key for key, value in counts.items()]\n",
    "values = [value/n_shots for key, value in counts.items()]\n",
    "\n",
    "container = plt.bar(keys, values, width=0.8)\n",
    "\n",
    "plt.title('Sampling results')\n",
    "plt.xlabel('Configurations')\n",
    "plt.ylabel('Probabilities')\n",
    "\n",
    "plt.show()"
   ]
  },
  {
   "cell_type": "code",
   "execution_count": 77,
   "metadata": {},
   "outputs": [
    {
     "data": {
      "text/plain": [
       "0.0363"
      ]
     },
     "execution_count": 77,
     "metadata": {},
     "output_type": "execute_result"
    }
   ],
   "source": [
    "# get the kernel entry after the job is finished\n",
    "kernel_entry = kernel.get_job_results(kernel_entry_job)\n",
    "kernel_entry"
   ]
  },
  {
   "cell_type": "markdown",
   "metadata": {},
   "source": [
    "We computed the overlap between two different datapoints on the Quantum Hardware"
   ]
  }
 ],
 "metadata": {
  "kernelspec": {
   "display_name": "olqti24",
   "language": "python",
   "name": "python3"
  },
  "language_info": {
   "codemirror_mode": {
    "name": "ipython",
    "version": 3
   },
   "file_extension": ".py",
   "mimetype": "text/x-python",
   "name": "python",
   "nbconvert_exporter": "python",
   "pygments_lexer": "ipython3",
   "version": "3.12.0"
  }
 },
 "nbformat": 4,
 "nbformat_minor": 2
}
